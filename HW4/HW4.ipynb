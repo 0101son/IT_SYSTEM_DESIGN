{
  "cells": [
    {
      "cell_type": "markdown",
      "source": [
        "# 개요\n",
        "이 노트북은 과제4를 위해 BOHB 하이퍼 파라미터 최적화 기법을 사용하여 mnist 데이터셋을 분류하는 CNN을 훈련시키는데 가장 적합한 하이퍼 파라미터를 찾아내는 코드 입니다.\n",
        "\n",
        "# 주의\n",
        "이 노트북은 빠른 실행을 위한 Colab의 GPU 설정과 훈련 과정 저장을 위한 Google 드라이브 사용이 포함되어있으므로 실행을 위해 **Google 계정 및 드라이브 연동이 필요합니다**. 또한 실행 중 드라이브 권한 승인을 위한 팝업이 나올 수 있습니다.\n",
        "\n",
        "# 사용법\n",
        "1. **학습 실행** 전 까지 코드를 전부 실행합니다. 구글 드라이브 연동 권한에 대한 팝업이 등장하면 승인합니다.\n",
        "\n",
        "2. **학습 실행** 에서는 **원하는 epoch까지 실행한 뒤, 실행을 종료**시키면 됩니다.(기본으로는 100 epoch까지 실행되어 사실상 끝나지 않습니다. 숫자를 수정하여 특정 epoch에서 종료시킬 수 있습니다.)\n",
        "\n",
        "3. 이후 분석을 위한 코드를 실행시킵니다.\n",
        "\n",
        "학습 실행을 하지 않더라도 **1.** 과정만 진행한 뒤, 드라이브에 생성된 \"/content/drive/My Drive/HW4_results\"폴더에 첨부된 pkl 파일을 넣으면 과제에 사용된 통계를 다시 확인할 수 있습니다.\n",
        "\n"
      ],
      "metadata": {
        "id": "grNb44MG7ZZE"
      }
    },
    {
      "cell_type": "markdown",
      "source": [
        "# GPU 사용\n",
        "\n",
        "코랩의 GPU 사용을 위한 설정입니다"
      ],
      "metadata": {
        "id": "P5w2GSDp79pA"
      }
    },
    {
      "cell_type": "code",
      "execution_count": 1,
      "metadata": {
        "colab": {
          "base_uri": "https://localhost:8080/"
        },
        "id": "j9pHFZYvpDbQ",
        "outputId": "6ecb3889-2cca-4448-9690-956f8dce6a72"
      },
      "outputs": [
        {
          "output_type": "stream",
          "name": "stdout",
          "text": [
            "Found GPU at: /device:GPU:0\n"
          ]
        }
      ],
      "source": [
        "import tensorflow as tf\n",
        "device_name = tf.test.gpu_device_name()\n",
        "if device_name != '/device:GPU:0':\n",
        "  raise SystemError('GPU device not found')\n",
        "print('Found GPU at: {}'.format(device_name))"
      ]
    },
    {
      "cell_type": "markdown",
      "source": [
        "# 라이브러리 설치\n",
        "\n",
        "BOHB를 위한 라이브러리는 Colab에 기본으로 설치되어 있지 않기 때문에 별도로 설치합니다."
      ],
      "metadata": {
        "id": "XnS1gd6C7_z7"
      }
    },
    {
      "cell_type": "code",
      "execution_count": 2,
      "metadata": {
        "colab": {
          "base_uri": "https://localhost:8080/"
        },
        "id": "atOQgH3OpKca",
        "outputId": "c430e86b-138d-4552-f8ae-9337cc57975b"
      },
      "outputs": [
        {
          "output_type": "stream",
          "name": "stdout",
          "text": [
            "Collecting hpbandster\n",
            "  Downloading hpbandster-0.7.4.tar.gz (51 kB)\n",
            "\u001b[?25l     \u001b[90m━━━━━━━━━━━━━━━━━━━━━━━━━━━━━━━━━━━━━━━━\u001b[0m \u001b[32m0.0/51.3 kB\u001b[0m \u001b[31m?\u001b[0m eta \u001b[36m-:--:--\u001b[0m\r\u001b[2K     \u001b[90m━━━━━━━━━━━━━━━━━━━━━━━━━━━━━━━━━━━━━━━━\u001b[0m \u001b[32m51.3/51.3 kB\u001b[0m \u001b[31m1.4 MB/s\u001b[0m eta \u001b[36m0:00:00\u001b[0m\n",
            "\u001b[?25h  Preparing metadata (setup.py) ... \u001b[?25l\u001b[?25hdone\n",
            "Collecting Pyro4 (from hpbandster)\n",
            "  Downloading Pyro4-4.82-py2.py3-none-any.whl (89 kB)\n",
            "\u001b[2K     \u001b[90m━━━━━━━━━━━━━━━━━━━━━━━━━━━━━━━━━━━━━━━━\u001b[0m \u001b[32m90.0/90.0 kB\u001b[0m \u001b[31m3.3 MB/s\u001b[0m eta \u001b[36m0:00:00\u001b[0m\n",
            "\u001b[?25hCollecting serpent (from hpbandster)\n",
            "  Downloading serpent-1.41-py3-none-any.whl (9.6 kB)\n",
            "Collecting ConfigSpace (from hpbandster)\n",
            "  Downloading ConfigSpace-0.7.1-cp310-cp310-manylinux_2_17_x86_64.manylinux2014_x86_64.whl (6.3 MB)\n",
            "\u001b[2K     \u001b[90m━━━━━━━━━━━━━━━━━━━━━━━━━━━━━━━━━━━━━━━━\u001b[0m \u001b[32m6.3/6.3 MB\u001b[0m \u001b[31m3.2 MB/s\u001b[0m eta \u001b[36m0:00:00\u001b[0m\n",
            "\u001b[?25hRequirement already satisfied: numpy in /usr/local/lib/python3.10/dist-packages (from hpbandster) (1.25.2)\n",
            "Requirement already satisfied: statsmodels in /usr/local/lib/python3.10/dist-packages (from hpbandster) (0.14.2)\n",
            "Requirement already satisfied: scipy in /usr/local/lib/python3.10/dist-packages (from hpbandster) (1.11.4)\n",
            "Collecting netifaces (from hpbandster)\n",
            "  Downloading netifaces-0.11.0.tar.gz (30 kB)\n",
            "  Preparing metadata (setup.py) ... \u001b[?25l\u001b[?25hdone\n",
            "Requirement already satisfied: pyparsing in /usr/local/lib/python3.10/dist-packages (from ConfigSpace->hpbandster) (3.1.2)\n",
            "Requirement already satisfied: typing-extensions in /usr/local/lib/python3.10/dist-packages (from ConfigSpace->hpbandster) (4.12.2)\n",
            "Requirement already satisfied: more-itertools in /usr/local/lib/python3.10/dist-packages (from ConfigSpace->hpbandster) (10.1.0)\n",
            "Requirement already satisfied: pandas!=2.1.0,>=1.4 in /usr/local/lib/python3.10/dist-packages (from statsmodels->hpbandster) (2.0.3)\n",
            "Requirement already satisfied: patsy>=0.5.6 in /usr/local/lib/python3.10/dist-packages (from statsmodels->hpbandster) (0.5.6)\n",
            "Requirement already satisfied: packaging>=21.3 in /usr/local/lib/python3.10/dist-packages (from statsmodels->hpbandster) (24.1)\n",
            "Requirement already satisfied: python-dateutil>=2.8.2 in /usr/local/lib/python3.10/dist-packages (from pandas!=2.1.0,>=1.4->statsmodels->hpbandster) (2.8.2)\n",
            "Requirement already satisfied: pytz>=2020.1 in /usr/local/lib/python3.10/dist-packages (from pandas!=2.1.0,>=1.4->statsmodels->hpbandster) (2023.4)\n",
            "Requirement already satisfied: tzdata>=2022.1 in /usr/local/lib/python3.10/dist-packages (from pandas!=2.1.0,>=1.4->statsmodels->hpbandster) (2024.1)\n",
            "Requirement already satisfied: six in /usr/local/lib/python3.10/dist-packages (from patsy>=0.5.6->statsmodels->hpbandster) (1.16.0)\n",
            "Building wheels for collected packages: hpbandster, netifaces\n",
            "  Building wheel for hpbandster (setup.py) ... \u001b[?25l\u001b[?25hdone\n",
            "  Created wheel for hpbandster: filename=hpbandster-0.7.4-py3-none-any.whl size=79991 sha256=2df2a24112f35e9c8708812db8389c81e560349f4563e4e31f2e969fed6b7822\n",
            "  Stored in directory: /root/.cache/pip/wheels/79/51/18/33d6ba8c55cc8401bffbccb1b87b21e0c68f40edc4ce3c1f99\n",
            "  Building wheel for netifaces (setup.py) ... \u001b[?25l\u001b[?25hdone\n",
            "  Created wheel for netifaces: filename=netifaces-0.11.0-cp310-cp310-linux_x86_64.whl size=35005 sha256=fd9c435d4244118b48e6765ed7cef0d625a2a5e4d3ec8572314ea45c56ffeb8c\n",
            "  Stored in directory: /root/.cache/pip/wheels/48/65/b3/4c4cc6038b81ff21cc9df69f2b6774f5f52e23d3c275ed15aa\n",
            "Successfully built hpbandster netifaces\n",
            "Installing collected packages: netifaces, serpent, Pyro4, ConfigSpace, hpbandster\n",
            "Successfully installed ConfigSpace-0.7.1 Pyro4-4.82 hpbandster-0.7.4 netifaces-0.11.0 serpent-1.41\n",
            "Requirement already satisfied: ConfigSpace in /usr/local/lib/python3.10/dist-packages (0.7.1)\n",
            "Requirement already satisfied: numpy in /usr/local/lib/python3.10/dist-packages (from ConfigSpace) (1.25.2)\n",
            "Requirement already satisfied: pyparsing in /usr/local/lib/python3.10/dist-packages (from ConfigSpace) (3.1.2)\n",
            "Requirement already satisfied: scipy in /usr/local/lib/python3.10/dist-packages (from ConfigSpace) (1.11.4)\n",
            "Requirement already satisfied: typing-extensions in /usr/local/lib/python3.10/dist-packages (from ConfigSpace) (4.12.2)\n",
            "Requirement already satisfied: more-itertools in /usr/local/lib/python3.10/dist-packages (from ConfigSpace) (10.1.0)\n"
          ]
        }
      ],
      "source": [
        "!pip install hpbandster\n",
        "!pip install ConfigSpace"
      ]
    },
    {
      "cell_type": "markdown",
      "source": [
        "# 전처리(데이터 다운로드 및 나누기)\n",
        "\n",
        "간단한 전처리입니다."
      ],
      "metadata": {
        "id": "n2QOMMcr8F92"
      }
    },
    {
      "cell_type": "code",
      "execution_count": 3,
      "metadata": {
        "id": "tjDvD2kepMbh",
        "colab": {
          "base_uri": "https://localhost:8080/"
        },
        "outputId": "3e4821b7-dbed-4f41-da66-9660265d68de"
      },
      "outputs": [
        {
          "output_type": "stream",
          "name": "stdout",
          "text": [
            "Downloading data from https://storage.googleapis.com/tensorflow/tf-keras-datasets/mnist.npz\n",
            "11490434/11490434 [==============================] - 1s 0us/step\n"
          ]
        }
      ],
      "source": [
        "import tensorflow as tf\n",
        "from tensorflow.keras.datasets import mnist\n",
        "from tensorflow.keras.utils import to_categorical\n",
        "\n",
        "# 데이터셋 로드\n",
        "(x_train, y_train), (x_test, y_test) = mnist.load_data()\n",
        "\n",
        "# 데이터 전처리\n",
        "x_train = x_train.reshape(-1, 28, 28, 1).astype('float32') / 255.0\n",
        "x_test = x_test.reshape(-1, 28, 28, 1).astype('float32') / 255.0\n",
        "y_train = to_categorical(y_train, 10)\n",
        "y_test = to_categorical(y_test, 10)\n",
        "\n",
        "# 2.4. train data를 4:1로 분할하여 validation data 생성\n",
        "from sklearn.model_selection import train_test_split\n",
        "x_train, x_val, y_train, y_val = train_test_split(x_train, y_train, test_size=0.2, random_state=42)\n"
      ]
    },
    {
      "cell_type": "markdown",
      "source": [
        "# 데이터 증강\n",
        "\n",
        "과적합을 방지하기 위한 데이터 증강입니다."
      ],
      "metadata": {
        "id": "3UZ6P6Qy8JUs"
      }
    },
    {
      "cell_type": "code",
      "execution_count": 4,
      "metadata": {
        "id": "7yMLpfiKpQwj"
      },
      "outputs": [],
      "source": [
        "# 3. 데이터 증강\n",
        "from keras.preprocessing.image import ImageDataGenerator\n",
        "# Data Augmentation\n",
        "datagen = ImageDataGenerator(\n",
        "    rotation_range=10,\n",
        "    width_shift_range=0.1,\n",
        "    height_shift_range=0.1,\n",
        "    zoom_range=0.1,\n",
        "    fill_mode = 'nearest'\n",
        ")"
      ]
    },
    {
      "cell_type": "markdown",
      "metadata": {
        "id": "G8uxmLnPydcK"
      },
      "source": [
        "# 모델 정의"
      ]
    },
    {
      "cell_type": "code",
      "execution_count": 5,
      "metadata": {
        "id": "AkE57b5S9UUw"
      },
      "outputs": [],
      "source": [
        "from tensorflow.keras import layers, models, regularizers, optimizers, callbacks, metrics\n",
        "from tensorflow.keras.layers import Input, Conv2D, BatchNormalization, ReLU, GlobalAveragePooling2D, Dropout, Dense, Add, DepthwiseConv2D\n",
        "def inverted_residual_block(inputs, filters, stride, expansion, l2):\n",
        "    x = inputs\n",
        "    in_channels = x.shape[-1]\n",
        "    x = Conv2D(expansion * in_channels, kernel_size=1, padding='same', use_bias=False, kernel_regularizer=tf.keras.regularizers.l2(l2))(x)\n",
        "    x = BatchNormalization()(x)\n",
        "    x = ReLU(6.)(x)\n",
        "\n",
        "    x = DepthwiseConv2D(kernel_size=3, strides=stride, padding='same', use_bias=False, kernel_regularizer=tf.keras.regularizers.l2(l2))(x)\n",
        "    x = BatchNormalization()(x)\n",
        "    x = ReLU(6.)(x)\n",
        "\n",
        "    x = Conv2D(filters, kernel_size=1, padding='same', use_bias=False, kernel_regularizer=tf.keras.regularizers.l2(l2))(x)\n",
        "    x = BatchNormalization()(x)\n",
        "\n",
        "    if stride == 1 and in_channels == filters:\n",
        "        x = Add()([inputs, x])\n",
        "\n",
        "    return x\n",
        "\n",
        "def MobileNetV2(input_shape=(28, 28, 1), num_classes=10, expansion=3, dropout=0.2, l2=0.003):\n",
        "    inputs = Input(shape=input_shape)\n",
        "\n",
        "    x = Conv2D(16, kernel_size=3, strides=2, padding='same', use_bias=False, kernel_regularizer=tf.keras.regularizers.l2(l2))(inputs)\n",
        "    x = BatchNormalization()(x)\n",
        "    x = ReLU(6.)(x)\n",
        "\n",
        "    x = inverted_residual_block(x, filters=16, stride=1, expansion=1, l2=l2)\n",
        "\n",
        "    x = inverted_residual_block(x, filters=24, stride=1, expansion=expansion, l2=l2)\n",
        "    x = inverted_residual_block(x, filters=24, stride=1, expansion=expansion, l2=l2)\n",
        "\n",
        "    x = inverted_residual_block(x, filters=32, stride=2, expansion=expansion, l2=l2)\n",
        "    x = inverted_residual_block(x, filters=32, stride=1, expansion=expansion, l2=l2)\n",
        "    x = inverted_residual_block(x, filters=32, stride=1, expansion=expansion, l2=l2)\n",
        "\n",
        "    x = inverted_residual_block(x, filters=64, stride=1, expansion=expansion, l2=l2)\n",
        "\n",
        "    x = Conv2D(256, kernel_size=1, use_bias=False, kernel_regularizer=tf.keras.regularizers.l2(l2))(x)\n",
        "    x = BatchNormalization()(x)\n",
        "    x = ReLU(6.)(x)\n",
        "\n",
        "    x = GlobalAveragePooling2D()(x)\n",
        "    x = Dropout(dropout)(x)\n",
        "    x = Dense(num_classes, activation='softmax')(x)\n",
        "\n",
        "    model = models.Model(inputs, x)\n",
        "    return model\n"
      ]
    },
    {
      "cell_type": "code",
      "source": [
        "def create_model(\n",
        "\tmomentum=0.9,\n",
        "\tinitial_lr=0.001,\n",
        "\treduce_lr_factor=0.9,\n",
        "\treduce_lr_patience=6,\n",
        "\texpansion=3,\n",
        "\tdropout=0.2,\n",
        "\tl2=0.003,\n",
        "):\n",
        "\tmodel = MobileNetV2(expansion = expansion,dropout=dropout,l2=l2)\n",
        "\n",
        "\toptimizer=optimizers.RMSprop(\n",
        "\t\tlearning_rate = initial_lr,\n",
        "\t\tmomentum=momentum,\n",
        "\t)\n",
        "\n",
        "\tmodel.compile(\n",
        "\t\toptimizer=optimizer,\n",
        "\t\tloss='categorical_crossentropy',\n",
        "\t\tmetrics=['categorical_accuracy']\n",
        "\t)\n",
        "\treturn model"
      ],
      "metadata": {
        "id": "CNBqmbR8ooeA"
      },
      "execution_count": 6,
      "outputs": []
    },
    {
      "cell_type": "markdown",
      "metadata": {
        "id": "CJk7iRIy9dzN"
      },
      "source": [
        "# 학습 정의"
      ]
    },
    {
      "cell_type": "code",
      "execution_count": 7,
      "metadata": {
        "id": "CTu_ibgV9dc7"
      },
      "outputs": [],
      "source": [
        "import ConfigSpace as CS\n",
        "import ConfigSpace.hyperparameters as CSH\n",
        "import torch\n",
        "\n",
        "import tensorflow as tf\n",
        "from hpbandster.core.worker import Worker\n",
        "from tensorflow.keras.callbacks import EarlyStopping\n",
        "class MyWorker(Worker):\n",
        "    def compute(self, config, budget, *args, **kwargs):\n",
        "\n",
        "        print(\"Hyperparameters:\", config)  # 현재 하이퍼파라미터 출력\n",
        "\n",
        "        # 하이퍼파라미터들\n",
        "        momentum = config['momentum']\n",
        "        initial_lr = config['initial_lr']\n",
        "        batch_size = 2 ** config['batch_size_exp']\n",
        "        expansion = config['expansion']\n",
        "        dropout = config['dropout']\n",
        "        reduce_lr_patience = config['reduce_lr_patience']\n",
        "        reduce_lr_factor = config['reduce_lr_factor']\n",
        "        l2 = config['l2']\n",
        "\n",
        "        # 모델 생성\n",
        "        model = create_model(\n",
        "            momentum=momentum,\n",
        "\t\t\tinitial_lr=initial_lr,\n",
        "\t\t\treduce_lr_factor=reduce_lr_factor,\n",
        "\t\t\treduce_lr_patience=reduce_lr_patience,\n",
        "\t\t\texpansion=expansion,\n",
        "\t\t\tdropout=dropout,\n",
        "\t\t\tl2=l2,\n",
        "        )\n",
        "\n",
        "        # EarlyStopping 콜백 정의\n",
        "        early_stopping = EarlyStopping(\n",
        "            monitor='val_categorical_accuracy',  # 검증 손실 기반으로 모니터링\n",
        "            patience=10,  # 10 에폭 동안 성능 향상이 없으면 학습 조기 종료\n",
        "            restore_best_weights=True,  # 최적의 가중치로 복원\n",
        "        )\n",
        "\n",
        "        # ReduceLROnPlateau 콜백 정의\n",
        "        reduce_lr = tf.keras.callbacks.ReduceLROnPlateau(\n",
        "            monitor='val_categorical_accuracy',\n",
        "            factor=reduce_lr_factor,\n",
        "            patience=reduce_lr_patience,\n",
        "        )\n",
        "        model.fit(\n",
        "            datagen.flow(x_train.reshape(-1, 28, 28, 1), y_train, batch_size=batch_size),  # 데이터 증강 적용\n",
        "            epochs=int(budget),\n",
        "            verbose=1,\n",
        "            validation_data=(x_val.reshape(-1, 28, 28, 1), y_val),\n",
        "            callbacks=[reduce_lr, early_stopping],\n",
        "        )\n",
        "\n",
        "        loss, accuracy = model.evaluate(x_test, y_test, verbose=1)\n",
        "        return {'loss': -accuracy, 'info': {'test_accuracy': accuracy}}"
      ]
    },
    {
      "cell_type": "markdown",
      "metadata": {
        "id": "sn-SkURpggt9"
      },
      "source": [
        "# 하이퍼파라미터 범위 정의"
      ]
    },
    {
      "cell_type": "code",
      "execution_count": 8,
      "metadata": {
        "id": "dhcNbp4Oge5E"
      },
      "outputs": [],
      "source": [
        "import ConfigSpace as CS\n",
        "import ConfigSpace.hyperparameters as CSH\n",
        "def get_configspace():\n",
        "    cs = CS.ConfigurationSpace()\n",
        "\n",
        "    # 하이퍼파라미터 추가\n",
        "    cs.add_hyperparameters([\n",
        "        CSH.UniformIntegerHyperparameter('batch_size_exp', lower=7, upper=9, default_value=8),\n",
        "        CSH.UniformFloatHyperparameter('dropout', lower=0, upper=0.3, default_value=0.2),\n",
        "        CSH.UniformIntegerHyperparameter('expansion', lower=2, upper=6, default_value=3),\n",
        "        CSH.UniformFloatHyperparameter('initial_lr', lower=1e-5, upper=1e-1, log=True, default_value=1e-3),\n",
        "        CSH.UniformFloatHyperparameter('l2', lower=1e-5, upper=1e-2, log=True, default_value=0.003),\n",
        "        CSH.UniformFloatHyperparameter('momentum', lower=0.4, upper=1, default_value=0.9),\n",
        "        CSH.UniformFloatHyperparameter('reduce_lr_factor', lower=0.05, upper=0.9, default_value=0.9),\n",
        "        CSH.UniformIntegerHyperparameter('reduce_lr_patience', lower=4, upper=8, default_value=6),\n",
        "        ])\n",
        "\n",
        "    return cs"
      ]
    },
    {
      "cell_type": "markdown",
      "metadata": {
        "id": "y9js2LuZxVcA"
      },
      "source": [
        "# 학습 실행\n",
        "\n",
        "- 매 iteration 마다 실행 내역이 google drive에 저장되므로, 실행 중간에 종료하더라도 마지막 iteration 내용 까지 파일로 저장됩니다.\n",
        "- 아래 반복문의 회수를 수정하면 실행 epoch 수를 수정할 수 있습니다.\n",
        "      # BOHB 실행 및 결과 저장\n",
        "      for i in range(100): # <-- 여기를 수정하면 epoch 수를 수정할 수 있습니다.\n",
        "        result = bohb.run(n_iterations=1)\n",
        "        print(\"current iter: \", result.num_iterations())\n",
        "        # iteration 종료 시 결과 저장\n",
        "        # 결과 저장\n",
        "        with open(os.path.join(SAVE_DIR, 'results.pkl'), 'wb') as fh:\n",
        "            pickle.dump(result, fh)\n",
        "\n",
        "# ❗주의❗\n",
        "- 한 번 실행 중간에 종료하면 워커가 계속 남아있는 문제가 있으나 해결하지 못했습니다.\n",
        "- 만약 **비정상적인 출력이 확인**되면(이전에 실행되던 진행 로그가 계속 출력되는 문제) **런타임 초기화 후 처음부터 다시 실행**해주세요.\n",
        "- 통계 분석을 위한 로그 파일을 저장하기 위해서는 최소한 1 epoch가 실행 완료되어야 합니다."
      ]
    },
    {
      "cell_type": "code",
      "execution_count": 9,
      "metadata": {
        "colab": {
          "base_uri": "https://localhost:8080/"
        },
        "id": "aSWmrIg0xRUq",
        "outputId": "c6cbf032-b957-42e7-9ce0-e8f3eccb90c4"
      },
      "outputs": [
        {
          "output_type": "stream",
          "name": "stdout",
          "text": [
            "Mounted at /content/drive\n",
            "Hyperparameters: {'batch_size_exp': 9, 'dropout': 0.0736226217812186, 'expansion': 2, 'initial_lr': 5.7324828732071596e-05, 'l2': 0.005373861026161267, 'momentum': 0.8364725227072427, 'reduce_lr_factor': 0.7970847070077499, 'reduce_lr_patience': 8}\n",
            "Epoch 1/11\n",
            "94/94 [==============================] - 26s 146ms/step - loss: 4.5931 - categorical_accuracy: 0.4041 - val_loss: 4.8905 - val_categorical_accuracy: 0.0995 - lr: 5.7325e-05\n",
            "Epoch 2/11\n",
            "94/94 [==============================] - 12s 130ms/step - loss: 2.9653 - categorical_accuracy: 0.8174 - val_loss: 4.7285 - val_categorical_accuracy: 0.0980 - lr: 5.7325e-05\n",
            "Epoch 3/11\n",
            "94/94 [==============================] - 12s 129ms/step - loss: 2.1043 - categorical_accuracy: 0.9312 - val_loss: 4.7345 - val_categorical_accuracy: 0.0980 - lr: 5.7325e-05\n",
            "Epoch 4/11\n",
            "94/94 [==============================] - 12s 130ms/step - loss: 1.6407 - categorical_accuracy: 0.9589 - val_loss: 4.8224 - val_categorical_accuracy: 0.0980 - lr: 5.7325e-05\n",
            "Epoch 5/11\n",
            "94/94 [==============================] - 12s 129ms/step - loss: 1.3377 - categorical_accuracy: 0.9695 - val_loss: 4.7980 - val_categorical_accuracy: 0.0980 - lr: 5.7325e-05\n",
            "Epoch 6/11\n",
            "94/94 [==============================] - 12s 129ms/step - loss: 1.1245 - categorical_accuracy: 0.9749 - val_loss: 3.2397 - val_categorical_accuracy: 0.1625 - lr: 5.7325e-05\n",
            "Epoch 7/11\n",
            "94/94 [==============================] - 13s 134ms/step - loss: 0.9662 - categorical_accuracy: 0.9770 - val_loss: 1.8991 - val_categorical_accuracy: 0.5999 - lr: 5.7325e-05\n",
            "Epoch 8/11\n",
            "94/94 [==============================] - 12s 131ms/step - loss: 0.8387 - categorical_accuracy: 0.9805 - val_loss: 1.7059 - val_categorical_accuracy: 0.6033 - lr: 5.7325e-05\n",
            "Epoch 9/11\n",
            "94/94 [==============================] - 12s 130ms/step - loss: 0.7373 - categorical_accuracy: 0.9826 - val_loss: 1.0524 - val_categorical_accuracy: 0.8855 - lr: 5.7325e-05\n",
            "Epoch 10/11\n",
            "94/94 [==============================] - 12s 129ms/step - loss: 0.6540 - categorical_accuracy: 0.9840 - val_loss: 0.9578 - val_categorical_accuracy: 0.8838 - lr: 5.7325e-05\n",
            "Epoch 11/11\n",
            "94/94 [==============================] - 12s 133ms/step - loss: 0.5839 - categorical_accuracy: 0.9859 - val_loss: 0.6854 - val_categorical_accuracy: 0.9592 - lr: 5.7325e-05\n",
            "313/313 [==============================] - 2s 5ms/step - loss: 0.6681 - categorical_accuracy: 0.9649\n",
            "Hyperparameters: {'batch_size_exp': 8, 'dropout': 0.020980389421057153, 'expansion': 2, 'initial_lr': 0.0004190295629581226, 'l2': 0.0020624334483374295, 'momentum': 0.8574672413353603, 'reduce_lr_factor': 0.36591509158935, 'reduce_lr_patience': 4}\n",
            "Epoch 1/11\n",
            "188/188 [==============================] - 23s 75ms/step - loss: 1.0514 - categorical_accuracy: 0.8806 - val_loss: 3.3615 - val_categorical_accuracy: 0.1082 - lr: 4.1903e-04\n",
            "Epoch 2/11\n",
            "188/188 [==============================] - 13s 69ms/step - loss: 0.3742 - categorical_accuracy: 0.9727 - val_loss: 2.8088 - val_categorical_accuracy: 0.1082 - lr: 4.1903e-04\n",
            "Epoch 3/11\n",
            "188/188 [==============================] - 13s 68ms/step - loss: 0.2493 - categorical_accuracy: 0.9760 - val_loss: 0.8633 - val_categorical_accuracy: 0.7680 - lr: 4.1903e-04\n",
            "Epoch 4/11\n",
            "188/188 [==============================] - 12s 66ms/step - loss: 0.1968 - categorical_accuracy: 0.9781 - val_loss: 0.3381 - val_categorical_accuracy: 0.9384 - lr: 4.1903e-04\n",
            "Epoch 5/11\n",
            "188/188 [==============================] - 13s 67ms/step - loss: 0.1719 - categorical_accuracy: 0.9785 - val_loss: 0.2383 - val_categorical_accuracy: 0.9563 - lr: 4.1903e-04\n",
            "Epoch 6/11\n",
            "188/188 [==============================] - 12s 66ms/step - loss: 0.1533 - categorical_accuracy: 0.9797 - val_loss: 0.2510 - val_categorical_accuracy: 0.9444 - lr: 4.1903e-04\n",
            "Epoch 7/11\n",
            "188/188 [==============================] - 12s 66ms/step - loss: 0.1463 - categorical_accuracy: 0.9803 - val_loss: 0.2222 - val_categorical_accuracy: 0.9512 - lr: 4.1903e-04\n",
            "Epoch 8/11\n",
            "188/188 [==============================] - 12s 65ms/step - loss: 0.1369 - categorical_accuracy: 0.9810 - val_loss: 0.2230 - val_categorical_accuracy: 0.9552 - lr: 4.1903e-04\n",
            "Epoch 9/11\n",
            "188/188 [==============================] - 12s 66ms/step - loss: 0.1327 - categorical_accuracy: 0.9814 - val_loss: 0.2189 - val_categorical_accuracy: 0.9518 - lr: 4.1903e-04\n",
            "Epoch 10/11\n",
            "188/188 [==============================] - 12s 65ms/step - loss: 0.0984 - categorical_accuracy: 0.9880 - val_loss: 0.1415 - val_categorical_accuracy: 0.9820 - lr: 1.5333e-04\n",
            "Epoch 11/11\n",
            "188/188 [==============================] - 13s 67ms/step - loss: 0.0852 - categorical_accuracy: 0.9894 - val_loss: 0.1071 - val_categorical_accuracy: 0.9828 - lr: 1.5333e-04\n",
            "313/313 [==============================] - 2s 4ms/step - loss: 0.1007 - categorical_accuracy: 0.9852\n",
            "Hyperparameters: {'batch_size_exp': 9, 'dropout': 0.2700742721363334, 'expansion': 4, 'initial_lr': 5.659404156153132e-05, 'l2': 0.009169604175113534, 'momentum': 0.7021979794755191, 'reduce_lr_factor': 0.13957726390160494, 'reduce_lr_patience': 8}\n",
            "Epoch 1/11\n",
            "94/94 [==============================] - 21s 138ms/step - loss: 7.6807 - categorical_accuracy: 0.3410 - val_loss: 7.6568 - val_categorical_accuracy: 0.0981 - lr: 5.6594e-05\n",
            "Epoch 2/11\n",
            "94/94 [==============================] - 12s 126ms/step - loss: 5.6914 - categorical_accuracy: 0.7567 - val_loss: 7.0025 - val_categorical_accuracy: 0.0980 - lr: 5.6594e-05\n",
            "Epoch 3/11\n",
            "94/94 [==============================] - 12s 125ms/step - loss: 4.4073 - categorical_accuracy: 0.9029 - val_loss: 6.4760 - val_categorical_accuracy: 0.0980 - lr: 5.6594e-05\n",
            "Epoch 4/11\n",
            "94/94 [==============================] - 12s 125ms/step - loss: 3.5472 - categorical_accuracy: 0.9411 - val_loss: 5.9180 - val_categorical_accuracy: 0.0980 - lr: 5.6594e-05\n",
            "Epoch 5/11\n",
            "94/94 [==============================] - 12s 125ms/step - loss: 2.9072 - categorical_accuracy: 0.9584 - val_loss: 5.1411 - val_categorical_accuracy: 0.1041 - lr: 5.6594e-05\n",
            "Epoch 6/11\n",
            "94/94 [==============================] - 12s 127ms/step - loss: 2.4130 - categorical_accuracy: 0.9671 - val_loss: 3.8653 - val_categorical_accuracy: 0.3740 - lr: 5.6594e-05\n",
            "Epoch 7/11\n",
            "94/94 [==============================] - 12s 127ms/step - loss: 2.0338 - categorical_accuracy: 0.9731 - val_loss: 2.7771 - val_categorical_accuracy: 0.6942 - lr: 5.6594e-05\n",
            "Epoch 8/11\n",
            "94/94 [==============================] - 12s 130ms/step - loss: 1.7391 - categorical_accuracy: 0.9773 - val_loss: 2.1110 - val_categorical_accuracy: 0.9031 - lr: 5.6594e-05\n",
            "Epoch 9/11\n",
            "94/94 [==============================] - 12s 126ms/step - loss: 1.5085 - categorical_accuracy: 0.9796 - val_loss: 1.7458 - val_categorical_accuracy: 0.9273 - lr: 5.6594e-05\n",
            "Epoch 10/11\n",
            "94/94 [==============================] - 12s 126ms/step - loss: 1.3265 - categorical_accuracy: 0.9818 - val_loss: 1.4854 - val_categorical_accuracy: 0.9527 - lr: 5.6594e-05\n",
            "Epoch 11/11\n",
            "94/94 [==============================] - 12s 125ms/step - loss: 1.1738 - categorical_accuracy: 0.9834 - val_loss: 1.2784 - val_categorical_accuracy: 0.9570 - lr: 5.6594e-05\n",
            "313/313 [==============================] - 2s 4ms/step - loss: 1.2673 - categorical_accuracy: 0.9586\n",
            "Hyperparameters: {'batch_size_exp': 9, 'dropout': 0.20071113572939597, 'expansion': 3, 'initial_lr': 0.00013671426712212766, 'l2': 7.181673939447897e-05, 'momentum': 0.9187618222345718, 'reduce_lr_factor': 0.7611149636505932, 'reduce_lr_patience': 7}\n",
            "Epoch 1/11\n",
            "94/94 [==============================] - 21s 137ms/step - loss: 0.8278 - categorical_accuracy: 0.7419 - val_loss: 3.0612 - val_categorical_accuracy: 0.1082 - lr: 1.3671e-04\n",
            "Epoch 2/11\n",
            "94/94 [==============================] - 12s 127ms/step - loss: 0.1422 - categorical_accuracy: 0.9714 - val_loss: 4.1120 - val_categorical_accuracy: 0.1082 - lr: 1.3671e-04\n",
            "Epoch 3/11\n",
            "94/94 [==============================] - 12s 125ms/step - loss: 0.1111 - categorical_accuracy: 0.9800 - val_loss: 3.7073 - val_categorical_accuracy: 0.1082 - lr: 1.3671e-04\n",
            "Epoch 4/11\n",
            "94/94 [==============================] - 12s 128ms/step - loss: 0.1012 - categorical_accuracy: 0.9829 - val_loss: 2.9948 - val_categorical_accuracy: 0.2146 - lr: 1.3671e-04\n",
            "Epoch 5/11\n",
            "94/94 [==============================] - 12s 127ms/step - loss: 0.0905 - categorical_accuracy: 0.9852 - val_loss: 0.6022 - val_categorical_accuracy: 0.8064 - lr: 1.3671e-04\n",
            "Epoch 6/11\n",
            "94/94 [==============================] - 12s 128ms/step - loss: 0.0868 - categorical_accuracy: 0.9862 - val_loss: 0.1481 - val_categorical_accuracy: 0.9671 - lr: 1.3671e-04\n",
            "Epoch 7/11\n",
            "94/94 [==============================] - 12s 132ms/step - loss: 0.0791 - categorical_accuracy: 0.9886 - val_loss: 0.1168 - val_categorical_accuracy: 0.9752 - lr: 1.3671e-04\n",
            "Epoch 8/11\n",
            "94/94 [==============================] - 12s 128ms/step - loss: 0.0752 - categorical_accuracy: 0.9893 - val_loss: 0.1109 - val_categorical_accuracy: 0.9768 - lr: 1.3671e-04\n",
            "Epoch 9/11\n",
            "94/94 [==============================] - 12s 132ms/step - loss: 0.0736 - categorical_accuracy: 0.9890 - val_loss: 0.0911 - val_categorical_accuracy: 0.9852 - lr: 1.3671e-04\n",
            "Epoch 10/11\n",
            "94/94 [==============================] - 12s 130ms/step - loss: 0.0704 - categorical_accuracy: 0.9894 - val_loss: 0.1504 - val_categorical_accuracy: 0.9676 - lr: 1.3671e-04\n",
            "Epoch 11/11\n",
            "94/94 [==============================] - 12s 127ms/step - loss: 0.0667 - categorical_accuracy: 0.9907 - val_loss: 0.0719 - val_categorical_accuracy: 0.9897 - lr: 1.3671e-04\n",
            "313/313 [==============================] - 2s 4ms/step - loss: 0.0662 - categorical_accuracy: 0.9906\n",
            "Hyperparameters: {'batch_size_exp': 9, 'dropout': 0.08962866552435574, 'expansion': 2, 'initial_lr': 2.2479388419249238e-05, 'l2': 1.5645503308276926e-05, 'momentum': 0.4092653401823231, 'reduce_lr_factor': 0.4477451830333618, 'reduce_lr_patience': 5}\n",
            "Epoch 1/11\n",
            "94/94 [==============================] - 20s 132ms/step - loss: 2.3712 - categorical_accuracy: 0.1660 - val_loss: 2.3280 - val_categorical_accuracy: 0.1102 - lr: 2.2479e-05\n",
            "Epoch 2/11\n",
            "94/94 [==============================] - 12s 127ms/step - loss: 2.1314 - categorical_accuracy: 0.2359 - val_loss: 2.4049 - val_categorical_accuracy: 0.1102 - lr: 2.2479e-05\n",
            "Epoch 3/11\n",
            "94/94 [==============================] - 12s 130ms/step - loss: 1.9193 - categorical_accuracy: 0.3284 - val_loss: 2.5212 - val_categorical_accuracy: 0.1102 - lr: 2.2479e-05\n",
            "Epoch 4/11\n",
            "94/94 [==============================] - 12s 129ms/step - loss: 1.7233 - categorical_accuracy: 0.4225 - val_loss: 2.7497 - val_categorical_accuracy: 0.1102 - lr: 2.2479e-05\n",
            "Epoch 5/11\n",
            "94/94 [==============================] - 12s 129ms/step - loss: 1.5405 - categorical_accuracy: 0.5021 - val_loss: 2.8652 - val_categorical_accuracy: 0.1102 - lr: 2.2479e-05\n",
            "Epoch 6/11\n",
            "94/94 [==============================] - 12s 130ms/step - loss: 1.3585 - categorical_accuracy: 0.5852 - val_loss: 1.8741 - val_categorical_accuracy: 0.2405 - lr: 2.2479e-05\n",
            "Epoch 7/11\n",
            "94/94 [==============================] - 12s 131ms/step - loss: 1.1889 - categorical_accuracy: 0.6544 - val_loss: 1.0826 - val_categorical_accuracy: 0.6958 - lr: 2.2479e-05\n",
            "Epoch 8/11\n",
            "94/94 [==============================] - 12s 128ms/step - loss: 1.0318 - categorical_accuracy: 0.7109 - val_loss: 0.9933 - val_categorical_accuracy: 0.6888 - lr: 2.2479e-05\n",
            "Epoch 9/11\n",
            "94/94 [==============================] - 12s 126ms/step - loss: 0.8916 - categorical_accuracy: 0.7611 - val_loss: 0.9002 - val_categorical_accuracy: 0.7103 - lr: 2.2479e-05\n",
            "Epoch 10/11\n",
            "94/94 [==============================] - 12s 126ms/step - loss: 0.7749 - categorical_accuracy: 0.7964 - val_loss: 0.7865 - val_categorical_accuracy: 0.7483 - lr: 2.2479e-05\n",
            "Epoch 11/11\n",
            "94/94 [==============================] - 12s 126ms/step - loss: 0.6696 - categorical_accuracy: 0.8291 - val_loss: 0.7008 - val_categorical_accuracy: 0.7785 - lr: 2.2479e-05\n",
            "313/313 [==============================] - 2s 3ms/step - loss: 0.6476 - categorical_accuracy: 0.8019\n",
            "Hyperparameters: {'batch_size_exp': 8, 'dropout': 0.2005654412905255, 'expansion': 4, 'initial_lr': 0.003626998993522709, 'l2': 0.00033755612758885537, 'momentum': 0.787295951692506, 'reduce_lr_factor': 0.7341255634124537, 'reduce_lr_patience': 5}\n",
            "Epoch 1/11\n",
            "188/188 [==============================] - 22s 72ms/step - loss: 0.5505 - categorical_accuracy: 0.8957 - val_loss: 3.4755 - val_categorical_accuracy: 0.1688 - lr: 0.0036\n",
            "Epoch 2/11\n",
            "188/188 [==============================] - 12s 66ms/step - loss: 0.2906 - categorical_accuracy: 0.9609 - val_loss: 0.8710 - val_categorical_accuracy: 0.8003 - lr: 0.0036\n",
            "Epoch 3/11\n",
            "188/188 [==============================] - 13s 68ms/step - loss: 0.2428 - categorical_accuracy: 0.9653 - val_loss: 0.2511 - val_categorical_accuracy: 0.9584 - lr: 0.0036\n",
            "Epoch 4/11\n",
            "188/188 [==============================] - 13s 67ms/step - loss: 0.2149 - categorical_accuracy: 0.9677 - val_loss: 0.5368 - val_categorical_accuracy: 0.8881 - lr: 0.0036\n",
            "Epoch 5/11\n",
            "188/188 [==============================] - 12s 66ms/step - loss: 0.1915 - categorical_accuracy: 0.9700 - val_loss: 0.5833 - val_categorical_accuracy: 0.8533 - lr: 0.0036\n",
            "Epoch 6/11\n",
            "188/188 [==============================] - 12s 66ms/step - loss: 0.1762 - categorical_accuracy: 0.9717 - val_loss: 0.3728 - val_categorical_accuracy: 0.9168 - lr: 0.0036\n",
            "Epoch 7/11\n",
            "188/188 [==============================] - 13s 67ms/step - loss: 0.1727 - categorical_accuracy: 0.9723 - val_loss: 0.4136 - val_categorical_accuracy: 0.8912 - lr: 0.0036\n",
            "Epoch 8/11\n",
            "188/188 [==============================] - 12s 66ms/step - loss: 0.1583 - categorical_accuracy: 0.9749 - val_loss: 0.4853 - val_categorical_accuracy: 0.8694 - lr: 0.0036\n",
            "Epoch 9/11\n",
            "188/188 [==============================] - 13s 66ms/step - loss: 0.1336 - categorical_accuracy: 0.9795 - val_loss: 0.4850 - val_categorical_accuracy: 0.8586 - lr: 0.0027\n",
            "Epoch 10/11\n",
            "188/188 [==============================] - 12s 66ms/step - loss: 0.1273 - categorical_accuracy: 0.9790 - val_loss: 0.1576 - val_categorical_accuracy: 0.9701 - lr: 0.0027\n",
            "Epoch 11/11\n",
            "188/188 [==============================] - 13s 67ms/step - loss: 0.1247 - categorical_accuracy: 0.9792 - val_loss: 0.2374 - val_categorical_accuracy: 0.9454 - lr: 0.0027\n",
            "313/313 [==============================] - 2s 4ms/step - loss: 0.2188 - categorical_accuracy: 0.9482\n",
            "Hyperparameters: {'batch_size_exp': 8, 'dropout': 0.2138152765035312, 'expansion': 4, 'initial_lr': 0.001779910909300314, 'l2': 5.2383646041305836e-05, 'momentum': 0.5588097926694151, 'reduce_lr_factor': 0.08069008792924015, 'reduce_lr_patience': 8}\n",
            "Epoch 1/11\n",
            " 24/188 [==>...........................] - ETA: 9s - loss: 0.9836 - categorical_accuracy: 0.6883\n",
            "작업이 중단되었습니다. 마지막 Iteration까지 결과가 저장되었습니다.\n",
            " 30/188 [===>..........................] - ETA: 9s - loss: 0.8462 - categorical_accuracy: 0.7346"
          ]
        }
      ],
      "source": [
        "import os\n",
        "import pickle\n",
        "import hpbandster.core.result as hpres\n",
        "import time\n",
        "from google.colab import drive\n",
        "from hpbandster.core.result import json_result_logger\n",
        "import hpbandster.core.nameserver as hpns\n",
        "from hpbandster.optimizers import BOHB\n",
        "\n",
        "# Google Drive 마운트\n",
        "drive.mount('/content/drive')\n",
        "SAVE_DIR = '/content/drive/My Drive/HW4_results'  # 저장할 경로 설정\n",
        "\n",
        "# 결과 저장 폴더 생성 (없을 경우)\n",
        "if not os.path.exists(SAVE_DIR):\n",
        "    os.makedirs(SAVE_DIR)\n",
        "\n",
        "result_logger = hpres.json_result_logger(directory=SAVE_DIR, overwrite=True)\n",
        "\n",
        "# 네임 서버와 워커를 새로 시작하는 함수\n",
        "def start_new_ns_and_workers():\n",
        "    global NS, w\n",
        "    NS = hpns.NameServer(run_id='bohb', host='127.0.0.1', port=9090)  # 포트를 명시적으로 설정\n",
        "    NS.start()\n",
        "    w = MyWorker(nameserver='127.0.0.1', nameserver_port=9090, run_id='bohb')  # 동일한 포트로 설정\n",
        "    w.run(background=True)\n",
        "    time.sleep(2)  # 잠시 대기하여 워커가 네임 서버에 연결될 시간을 줍니다.\n",
        "\n",
        "start_new_ns_and_workers()\n",
        "\n",
        "# BOHB 설정\n",
        "try:\n",
        "    bohb = BOHB(\n",
        "        configspace=get_configspace(),\n",
        "        run_id='bohb',\n",
        "        nameserver='127.0.0.1',\n",
        "        min_budget=11,\n",
        "        max_budget=100,\n",
        "        result_logger=result_logger,  # 결과 로거 설정\n",
        "    )\n",
        "\n",
        "    # BOHB 실행 및 결과 저장\n",
        "    for i in range(100):\n",
        "        result = bohb.run(n_iterations=1)\n",
        "        print(\"current iter: \", result.num_iterations())\n",
        "        # iteration 종료 시 결과 저장\n",
        "        # 결과 저장\n",
        "        with open(os.path.join(SAVE_DIR, 'results.pkl'), 'wb') as fh:\n",
        "            pickle.dump(result, fh)\n",
        "except KeyboardInterrupt:\n",
        "    print(\"\\n작업이 중단되었습니다. 마지막 Iteration까지 결과가 저장되었습니다.\")\n",
        "finally:\n",
        "    bohb.shutdown(shutdown_workers=True)\n",
        "    NS.shutdown()"
      ]
    },
    {
      "cell_type": "markdown",
      "metadata": {
        "id": "_R5b7XSXxG6m"
      },
      "source": [
        "# 결과 분석"
      ]
    },
    {
      "cell_type": "code",
      "execution_count": 11,
      "metadata": {
        "colab": {
          "base_uri": "https://localhost:8080/",
          "height": 1000
        },
        "id": "rN_ST--UsBCk",
        "outputId": "8f68c6e3-0131-411e-b064-d36db8f6eab3"
      },
      "outputs": [
        {
          "output_type": "display_data",
          "data": {
            "text/plain": [
              "<Figure size 1500x1500 with 9 Axes>"
            ],
            "image/png": "[encoded data removed]"
          },
          "metadata": {}
        }
      ],
      "source": [
        "import json\n",
        "import pandas as pd\n",
        "import matplotlib.pyplot as plt\n",
        "import numpy as np\n",
        "\n",
        "# Load the JSON data from the provided files\n",
        "with open('/content/drive/My Drive/HW4_results/configs.json') as f:\n",
        "    configs = [json.loads(line) for line in f]\n",
        "\n",
        "with open('/content/drive/My Drive/HW4_results/results.json') as f:\n",
        "    results = [json.loads(line) for line in f]\n",
        "\n",
        "# Extract parameters and accuracies\n",
        "configs_data = [config[1] for config in configs]\n",
        "results_data = [result[3]['info']['test_accuracy'] for result in results]\n",
        "\n",
        "# Combine configs and results by line\n",
        "combined_data = [\n",
        "    {**config, 'test_error': 1 - result}  # Calculate error\n",
        "    for config, result in zip(configs_data, results_data)\n",
        "]\n",
        "\n",
        "# Convert to DataFrame\n",
        "df = pd.DataFrame(combined_data)\n",
        "\n",
        "# Plot error distributions by parameters\n",
        "fig, axes = plt.subplots(nrows=3, ncols=3, figsize=(15, 15))\n",
        "fig.suptitle('Parameter vs Test Error Distribution (Log Scale)')\n",
        "\n",
        "params = ['batch_size_exp', 'dropout', 'expansion', 'initial_lr', 'l2', 'momentum', 'reduce_lr_factor', 'reduce_lr_patience']\n",
        "\n",
        "for ax, param in zip(axes.flat, params):\n",
        "    ax.scatter(df[param], df['test_error'])\n",
        "    ax.set_xscale('log')  # Set x-axis to log scale\n",
        "    ax.set_yscale('log')  # Set y-axis to log scale\n",
        "    ax.set_xlabel(param)\n",
        "    ax.set_ylabel('Test Error')\n",
        "    ax.set_title(f'{param} vs Error')\n",
        "\n",
        "plt.tight_layout(rect=[0, 0.03, 1, 0.95])\n",
        "plt.show()\n"
      ]
    },
    {
      "cell_type": "code",
      "execution_count": null,
      "metadata": {
        "id": "pIoSO94LlH6o"
      },
      "outputs": [],
      "source": [
        "import json\n",
        "import pickle\n",
        "import matplotlib.pyplot as plt\n",
        "import os\n",
        "from google.colab import drive\n",
        "\n",
        "# Google Drive 마운트\n",
        "drive.mount('/content/drive')\n",
        "SAVE_DIR = '/content/drive/My Drive/HW4_results'  # 저장할 경로 설정\n",
        "# 저장된 결과 파일 경로\n",
        "result_file = os.path.join(SAVE_DIR, 'results.pkl')\n",
        "\n",
        "# 결과 불러오기\n",
        "with open(result_file, 'rb') as f:\n",
        "    result = pickle.load(f)\n",
        "\n",
        "# get all executed runs\n",
        "all_runs = result.get_all_runs()\n",
        "\n",
        "# get the 'dict' that translates config ids to the actual configurations\n",
        "id2conf = result.get_id2config_mapping()\n",
        "\n",
        "results = []\n",
        "for entry in all_runs:\n",
        "        test_accuracy = entry['info']['test_accuracy']\n",
        "        results.append(test_accuracy)\n",
        "\n",
        "# 실험 인덱스 생성\n",
        "indices = range(len(results))\n",
        "\n",
        "# 최고 테스트 정확도 값 추적\n",
        "max_accuracy = []\n",
        "current_max = 0\n",
        "for accuracy in results:\n",
        "    if accuracy > current_max:\n",
        "        current_max = accuracy\n",
        "    max_accuracy.append(current_max)\n",
        "\n",
        "# 테스트 정확도 그래프 그리기\n",
        "plt.figure(figsize=(10, 6))\n",
        "plt.plot(indices, results, 'bo', label='Test Accuracy')\n",
        "\n",
        "# 최고 기록 점 표시\n",
        "for i, (x, y) in enumerate(zip(indices, results)):\n",
        "    if y == max_accuracy[i]:\n",
        "        plt.plot(x, y, 'ro')\n",
        "        plt.text(x, y, f'{y:.4f}', fontsize=9, verticalalignment='bottom', horizontalalignment='right')\n",
        "\n",
        "# 최고 기록을 잇는 선 그리기\n",
        "plt.plot(indices, max_accuracy, 'r-', label='High Score')\n",
        "\n",
        "# 세밀한 y축 범위 설정\n",
        "plt.ylim(0.96, 1.0)\n",
        "plt.yticks([0.96, 0.97, 0.98, 0.99, 1.0])\n",
        "\n",
        "# 그래프 라벨 및 제목 추가\n",
        "plt.xlabel('Experiment Index')\n",
        "plt.ylabel('Test Accuracy')\n",
        "plt.title('Test Accuracy over Time')\n",
        "plt.legend()\n",
        "plt.show()\n"
      ]
    }
  ],
  "metadata": {
    "accelerator": "GPU",
    "colab": {
      "machine_shape": "hm",
      "provenance": [],
      "gpuType": "T4",
      "collapsed_sections": [
        "P5w2GSDp79pA"
      ]
    },
    "kernelspec": {
      "display_name": "Python 3",
      "name": "python3"
    },
    "language_info": {
      "name": "python"
    }
  },
  "nbformat": 4,
  "nbformat_minor": 0
}