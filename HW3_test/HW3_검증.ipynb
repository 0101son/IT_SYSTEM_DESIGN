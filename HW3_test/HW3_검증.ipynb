{
  "cells": [
    {
      "cell_type": "markdown",
      "metadata": {
        "id": "j-bTbsV9FArq"
      },
      "source": [
        "# 개요\n",
        "이 노트북은 HW3의 결과로 얻은 최적의 파라미터로 모델을 훈련시키는 과정을 재현합니다.\n",
        "\n",
        "훈련 과정의 무작위성을 감안하여 같은 하이퍼파라미터로 3번 훈련시킵니다.\n",
        "\n",
        "# 사용법\n",
        "처음부터 끝까지 실행시키면 됩니다.\n",
        "\n",
        "# ❗주의 ❗\n",
        "마찬가지의 이유로 구글 계정 및 구글 드라이브 연동이 필요합니다."
      ]
    },
    {
      "cell_type": "markdown",
      "metadata": {
        "id": "3MS9RX3YhU8S"
      },
      "source": [
        "# GPU 사용\n",
        "\n",
        "코랩의 GPU 사용을 위한 설정입니다"
      ]
    },
    {
      "cell_type": "code",
      "execution_count": 1,
      "metadata": {
        "colab": {
          "base_uri": "https://localhost:8080/"
        },
        "id": "fGqp9yPZQx2e",
        "outputId": "8a15272f-1f3f-4147-e07b-ce9b35b25dd3"
      },
      "outputs": [
        {
          "output_type": "stream",
          "name": "stdout",
          "text": [
            "Found GPU at: /device:GPU:0\n"
          ]
        }
      ],
      "source": [
        "import tensorflow as tf\n",
        "device_name = tf.test.gpu_device_name()\n",
        "if device_name != '/device:GPU:0':\n",
        "  raise SystemError('GPU device not found')\n",
        "print('Found GPU at: {}'.format(device_name))"
      ]
    },
    {
      "cell_type": "markdown",
      "metadata": {
        "id": "sXz95KhahZZu"
      },
      "source": [
        "# 라이브러리 설치\n",
        "\n",
        "BOHB를 위한 라이브러리는 Colab에 기본으로 설치되어 있지 않기 때문에 별도로 설치합니다."
      ]
    },
    {
      "cell_type": "code",
      "execution_count": 2,
      "metadata": {
        "colab": {
          "base_uri": "https://localhost:8080/"
        },
        "collapsed": true,
        "id": "C2geZU6nJvgs",
        "outputId": "c1a98515-56d1-4750-fdbb-4e30d55fe16b"
      },
      "outputs": [
        {
          "output_type": "stream",
          "name": "stdout",
          "text": [
            "Collecting hpbandster\n",
            "  Downloading hpbandster-0.7.4.tar.gz (51 kB)\n",
            "\u001b[?25l     \u001b[90m━━━━━━━━━━━━━━━━━━━━━━━━━━━━━━━━━━━━━━━━\u001b[0m \u001b[32m0.0/51.3 kB\u001b[0m \u001b[31m?\u001b[0m eta \u001b[36m-:--:--\u001b[0m\r\u001b[2K     \u001b[90m━━━━━━━━━━━━━━━━━━━━━━━━━━━━━━━━━━━━━━━━\u001b[0m \u001b[32m51.3/51.3 kB\u001b[0m \u001b[31m1.9 MB/s\u001b[0m eta \u001b[36m0:00:00\u001b[0m\n",
            "\u001b[?25h  Preparing metadata (setup.py) ... \u001b[?25l\u001b[?25hdone\n",
            "Collecting Pyro4 (from hpbandster)\n",
            "  Downloading Pyro4-4.82-py2.py3-none-any.whl (89 kB)\n",
            "\u001b[2K     \u001b[90m━━━━━━━━━━━━━━━━━━━━━━━━━━━━━━━━━━━━━━━━\u001b[0m \u001b[32m90.0/90.0 kB\u001b[0m \u001b[31m4.9 MB/s\u001b[0m eta \u001b[36m0:00:00\u001b[0m\n",
            "\u001b[?25hCollecting serpent (from hpbandster)\n",
            "  Downloading serpent-1.41-py3-none-any.whl (9.6 kB)\n",
            "Collecting ConfigSpace (from hpbandster)\n",
            "  Downloading ConfigSpace-0.7.1-cp310-cp310-manylinux_2_17_x86_64.manylinux2014_x86_64.whl (6.3 MB)\n",
            "\u001b[2K     \u001b[90m━━━━━━━━━━━━━━━━━━━━━━━━━━━━━━━━━━━━━━━━\u001b[0m \u001b[32m6.3/6.3 MB\u001b[0m \u001b[31m8.5 MB/s\u001b[0m eta \u001b[36m0:00:00\u001b[0m\n",
            "\u001b[?25hRequirement already satisfied: numpy in /usr/local/lib/python3.10/dist-packages (from hpbandster) (1.25.2)\n",
            "Requirement already satisfied: statsmodels in /usr/local/lib/python3.10/dist-packages (from hpbandster) (0.14.2)\n",
            "Requirement already satisfied: scipy in /usr/local/lib/python3.10/dist-packages (from hpbandster) (1.11.4)\n",
            "Collecting netifaces (from hpbandster)\n",
            "  Downloading netifaces-0.11.0.tar.gz (30 kB)\n",
            "  Preparing metadata (setup.py) ... \u001b[?25l\u001b[?25hdone\n",
            "Requirement already satisfied: pyparsing in /usr/local/lib/python3.10/dist-packages (from ConfigSpace->hpbandster) (3.1.2)\n",
            "Requirement already satisfied: typing-extensions in /usr/local/lib/python3.10/dist-packages (from ConfigSpace->hpbandster) (4.12.2)\n",
            "Requirement already satisfied: more-itertools in /usr/local/lib/python3.10/dist-packages (from ConfigSpace->hpbandster) (10.1.0)\n",
            "Requirement already satisfied: pandas!=2.1.0,>=1.4 in /usr/local/lib/python3.10/dist-packages (from statsmodels->hpbandster) (2.0.3)\n",
            "Requirement already satisfied: patsy>=0.5.6 in /usr/local/lib/python3.10/dist-packages (from statsmodels->hpbandster) (0.5.6)\n",
            "Requirement already satisfied: packaging>=21.3 in /usr/local/lib/python3.10/dist-packages (from statsmodels->hpbandster) (24.1)\n",
            "Requirement already satisfied: python-dateutil>=2.8.2 in /usr/local/lib/python3.10/dist-packages (from pandas!=2.1.0,>=1.4->statsmodels->hpbandster) (2.8.2)\n",
            "Requirement already satisfied: pytz>=2020.1 in /usr/local/lib/python3.10/dist-packages (from pandas!=2.1.0,>=1.4->statsmodels->hpbandster) (2023.4)\n",
            "Requirement already satisfied: tzdata>=2022.1 in /usr/local/lib/python3.10/dist-packages (from pandas!=2.1.0,>=1.4->statsmodels->hpbandster) (2024.1)\n",
            "Requirement already satisfied: six in /usr/local/lib/python3.10/dist-packages (from patsy>=0.5.6->statsmodels->hpbandster) (1.16.0)\n",
            "Building wheels for collected packages: hpbandster, netifaces\n",
            "  Building wheel for hpbandster (setup.py) ... \u001b[?25l\u001b[?25hdone\n",
            "  Created wheel for hpbandster: filename=hpbandster-0.7.4-py3-none-any.whl size=79991 sha256=f8bfb4b00a9861f15cbc6ff19b9fbb884107ff40fb81e3f7465fb402973778ef\n",
            "  Stored in directory: /root/.cache/pip/wheels/79/51/18/33d6ba8c55cc8401bffbccb1b87b21e0c68f40edc4ce3c1f99\n",
            "  Building wheel for netifaces (setup.py) ... \u001b[?25l\u001b[?25hdone\n",
            "  Created wheel for netifaces: filename=netifaces-0.11.0-cp310-cp310-linux_x86_64.whl size=35006 sha256=6bd2bd2415691cfe71d9df63233586132a599234750514b58f3c67a2ac085779\n",
            "  Stored in directory: /root/.cache/pip/wheels/48/65/b3/4c4cc6038b81ff21cc9df69f2b6774f5f52e23d3c275ed15aa\n",
            "Successfully built hpbandster netifaces\n",
            "Installing collected packages: netifaces, serpent, Pyro4, ConfigSpace, hpbandster\n",
            "Successfully installed ConfigSpace-0.7.1 Pyro4-4.82 hpbandster-0.7.4 netifaces-0.11.0 serpent-1.41\n",
            "Requirement already satisfied: ConfigSpace in /usr/local/lib/python3.10/dist-packages (0.7.1)\n",
            "Requirement already satisfied: numpy in /usr/local/lib/python3.10/dist-packages (from ConfigSpace) (1.25.2)\n",
            "Requirement already satisfied: pyparsing in /usr/local/lib/python3.10/dist-packages (from ConfigSpace) (3.1.2)\n",
            "Requirement already satisfied: scipy in /usr/local/lib/python3.10/dist-packages (from ConfigSpace) (1.11.4)\n",
            "Requirement already satisfied: typing-extensions in /usr/local/lib/python3.10/dist-packages (from ConfigSpace) (4.12.2)\n",
            "Requirement already satisfied: more-itertools in /usr/local/lib/python3.10/dist-packages (from ConfigSpace) (10.1.0)\n"
          ]
        }
      ],
      "source": [
        "!pip install hpbandster\n",
        "!pip install ConfigSpace"
      ]
    },
    {
      "cell_type": "markdown",
      "metadata": {
        "id": "WpPIm3RjhceY"
      },
      "source": [
        "# 전처리(데이터 다운로드 및 나누기)\n",
        "\n",
        "간단한 전처리입니다."
      ]
    },
    {
      "cell_type": "code",
      "execution_count": 3,
      "metadata": {
        "colab": {
          "base_uri": "https://localhost:8080/"
        },
        "id": "0ifTsH18Tjhb",
        "outputId": "5bf60afa-85f5-4a8e-991a-379b2a6a9427"
      },
      "outputs": [
        {
          "output_type": "stream",
          "name": "stdout",
          "text": [
            "Downloading data from https://storage.googleapis.com/tensorflow/tf-keras-datasets/mnist.npz\n",
            "11490434/11490434 [==============================] - 1s 0us/step\n"
          ]
        }
      ],
      "source": [
        "import tensorflow as tf\n",
        "from tensorflow.keras.datasets import mnist\n",
        "from tensorflow.keras.utils import to_categorical\n",
        "\n",
        "# 데이터셋 로드\n",
        "(x_train, y_train), (x_test, y_test) = mnist.load_data()\n",
        "\n",
        "# 데이터 전처리\n",
        "x_train = x_train.reshape(-1, 28*28).astype('float32') / 255.0\n",
        "x_test = x_test.reshape(-1, 28*28).astype('float32') / 255.0\n",
        "y_train = to_categorical(y_train, 10)\n",
        "y_test = to_categorical(y_test, 10)\n",
        "\n",
        "# 2.4. train data를 4:1로 분할하여 validation data 생성\n",
        "from sklearn.model_selection import train_test_split\n",
        "x_train, x_val, y_train, y_val = train_test_split(x_train, y_train, test_size=0.2, random_state=42)\n"
      ]
    },
    {
      "cell_type": "markdown",
      "metadata": {
        "id": "ov9_ngc8hjSs"
      },
      "source": [
        "# 데이터 증강\n",
        "\n",
        "과적합을 방지하기 위한 데이터 증강입니다."
      ]
    },
    {
      "cell_type": "code",
      "execution_count": 4,
      "metadata": {
        "colab": {
          "base_uri": "https://localhost:8080/",
          "height": 381
        },
        "id": "JBcsNZcT1InT",
        "outputId": "9c89f191-6695-44d2-9129-4340011fab9f"
      },
      "outputs": [
        {
          "output_type": "display_data",
          "data": {
            "text/plain": [
              "<Figure size 1500x400 with 16 Axes>"
            ],
            "image/png": "[encoded data removed]"
          },
          "metadata": {}
        }
      ],
      "source": [
        "# 3. 데이터 증강\n",
        "from keras.preprocessing.image import ImageDataGenerator\n",
        "# Data Augmentation\n",
        "datagen = ImageDataGenerator(\n",
        "    rotation_range=10,\n",
        "    width_shift_range=0.1,\n",
        "    height_shift_range=0.1,\n",
        "    zoom_range=0.1,\n",
        "    fill_mode = 'nearest'\n",
        ")\n",
        "\n",
        "aug = datagen.flow(x_train[2].reshape(-1, 28, 28, 1))\n",
        "\n",
        "# Plot using a for loop\n",
        "import matplotlib.pyplot as plt\n",
        "fig, axes = plt.subplots(2, 8, figsize = (15, 4))\n",
        "plt.suptitle('Random Rotation & Random Zoom', fontsize=20, y=1.05)\n",
        "axes = axes.ravel()\n",
        "\n",
        "for i in range(16):\n",
        "\n",
        "    aug_img = next(aug)[0]\n",
        "    axes[i].imshow(aug_img, cmap = 'gray')\n",
        "    axes[i].axis('off')\n",
        "\n",
        "plt.show()"
      ]
    },
    {
      "cell_type": "markdown",
      "metadata": {
        "id": "myxkO4c5hsb7"
      },
      "source": [
        "# 모델 정의"
      ]
    },
    {
      "cell_type": "code",
      "execution_count": 5,
      "metadata": {
        "id": "GeKMdQ_MP8Y7"
      },
      "outputs": [],
      "source": [
        "from tensorflow.keras import layers, models, regularizers, optimizers, callbacks, metrics\n",
        "from tensorflow.keras.callbacks import ReduceLROnPlateau\n",
        "def create_model(\n",
        "    num_hidden_layers=3,\n",
        "    hidden_units=1024,\n",
        "    dropout_rate=0.0,\n",
        "    l2_regularizer=0.01,\n",
        "    momentum=0.9,\n",
        "    reduce_lr_factor=0.2,\n",
        "    reduce_lr_patience=4,\n",
        "    initial_learning_rate=0.01,\n",
        "):\n",
        "    model = models.Sequential()\n",
        "    model.add(layers.Flatten(input_shape=(28, 28, 1)))\n",
        "\n",
        "    for _ in range(num_hidden_layers):\n",
        "        model.add(layers.Dense(hidden_units, kernel_initializer='he_normal', kernel_regularizer=regularizers.l2(l2_regularizer)))\n",
        "        model.add(layers.BatchNormalization())  # 활성화 함수 이전에 배치 정규화 적용\n",
        "        model.add(layers.Activation('relu'))  # 활성화 함수 분리\n",
        "        model.add(layers.Dropout(dropout_rate))\n",
        "\n",
        "\n",
        "    model.add(layers.Dense(10, activation='softmax'))\n",
        "\n",
        "    optimizer=optimizers.SGD(momentum=momentum, learning_rate = initial_learning_rate)\n",
        "    reduce_lr = ReduceLROnPlateau(\n",
        "        monitor='val_categorical_accuracy',\n",
        "        factor=reduce_lr_factor,\n",
        "        patience=reduce_lr_patience,\n",
        "        verbose=1\n",
        "    )\n",
        "\n",
        "    model.compile(\n",
        "        optimizer=optimizer,\n",
        "        loss='categorical_crossentropy',\n",
        "        metrics=['categorical_accuracy']\n",
        "    )\n",
        "    return model, reduce_lr\n"
      ]
    },
    {
      "cell_type": "markdown",
      "metadata": {
        "id": "IoOxWP2Uhylx"
      },
      "source": [
        "# 훈련 로그 저장소 초기화\n",
        "Google 드라이브 저장소에 훈련 로그를 저장하기 위한 폴더를 생성합니다.\n",
        "폴더가 이미 있다면 내용을 지웁니다."
      ]
    },
    {
      "cell_type": "code",
      "execution_count": 6,
      "metadata": {
        "colab": {
          "base_uri": "https://localhost:8080/"
        },
        "id": "RrSpTjuSPfnm",
        "outputId": "09793711-9e64-46e5-8933-3555cb11bed5"
      },
      "outputs": [
        {
          "output_type": "stream",
          "name": "stdout",
          "text": [
            "Mounted at /content/drive\n",
            "/content/drive/My Drive/HW3_test_results 디렉토리가 존재하지 않습니다.\n"
          ]
        }
      ],
      "source": [
        "import os\n",
        "from google.colab import drive\n",
        "\n",
        "# Google Drive 마운트\n",
        "drive.mount('/content/drive')\n",
        "SAVE_DIR = '/content/drive/My Drive/HW3_test_results'  # 저장할 경로 설정\n",
        "\n",
        "def reset_model_storage(save_dir=SAVE_DIR):\n",
        "    if os.path.exists(save_dir):\n",
        "        # 디렉토리 내 모든 파일 삭제\n",
        "        for filename in os.listdir(save_dir):\n",
        "            file_path = os.path.join(save_dir, filename)\n",
        "            try:\n",
        "                if os.path.isfile(file_path):\n",
        "                    os.unlink(file_path)  # 파일 삭제\n",
        "                elif os.path.isdir(file_path):\n",
        "                    os.rmdir(file_path)  # 디렉토리 삭제 (비어 있을 경우)\n",
        "            except Exception as e:\n",
        "                print(f'Error deleting {file_path}: {e}')\n",
        "        print(f\"모델 저장소 {save_dir}가 초기화되었습니다.\")\n",
        "    else:\n",
        "        print(f\"{save_dir} 디렉토리가 존재하지 않습니다.\")\n",
        "\n",
        "# 모델 저장소 초기화 함수 실행\n",
        "reset_model_storage()"
      ]
    },
    {
      "cell_type": "markdown",
      "metadata": {
        "id": "3_jmNwizRMcs"
      },
      "source": [
        "# 학습 정의 및 하이퍼 파라미터 범위 정의\n",
        "\n"
      ]
    },
    {
      "cell_type": "code",
      "execution_count": 7,
      "metadata": {
        "id": "hSIi3VRRQ4Zo"
      },
      "outputs": [],
      "source": [
        "import hpbandster.core.nameserver as hpns\n",
        "import hpbandster.core.result as hpres\n",
        "\n",
        "from hpbandster.optimizers import BOHB\n",
        "\n",
        "\n",
        "import ConfigSpace as CS\n",
        "from tensorflow.keras.callbacks import EarlyStopping\n",
        "from hpbandster.core.worker import Worker\n",
        "\n",
        "class MyWorker(Worker):\n",
        "    def __init__(self, *args, **kwargs):\n",
        "        super().__init__(*args, **kwargs)\n",
        "\n",
        "    def compute(self, config, budget, *args, **kwargs):\n",
        "        print(\"Hyperparameters:\", config)  # 현재 하이퍼파라미터 출력\n",
        "\n",
        "        #num_hidden_layers = config['num_hidden_layers']\n",
        "        #hidden_units = 2 ** config['hidden_units_exp']  # 2의 거듭제곱으로 변환\n",
        "        dropout_rate = config['dropout_rate']\n",
        "        l2_regularizer = config['l2_regularizer']\n",
        "        momentum = config['momentum']\n",
        "        reduce_lr_factor = config['reduce_lr_factor']\n",
        "        #reduce_lr_patience = config['reduce_lr_patience']\n",
        "        initial_learning_rate = config['initial_learning_rate']  # 'initial_learning_rate\n",
        "\n",
        "        num_hidden_layers = 5\n",
        "        hidden_units = 2 ** 10\n",
        "        reduce_lr_patience = 5\n",
        "\n",
        "        model, reduce_lr = create_model(\n",
        "            num_hidden_layers,\n",
        "            hidden_units,\n",
        "            dropout_rate,\n",
        "            l2_regularizer,\n",
        "            momentum,\n",
        "            reduce_lr_factor,\n",
        "            reduce_lr_patience,\n",
        "            initial_learning_rate,\n",
        "        )\n",
        "\n",
        "        # EarlyStopping 콜백 정의\n",
        "        early_stopping = EarlyStopping(\n",
        "            monitor='val_categorical_accuracy',  # 검증 손실 기반으로 모니터링\n",
        "            patience=8,           # 8 에폭 동안 성능 향상이 없으면 학습 조기 종료\n",
        "            restore_best_weights=True  # 최적의 가중치로 복원\n",
        "        )\n",
        "\n",
        "        model.fit(\n",
        "            datagen.flow(x_train.reshape(-1, 28, 28, 1), y_train, batch_size=128),  # 데이터 증강 적용\n",
        "            epochs=int(budget),\n",
        "            verbose=1,\n",
        "            validation_data=(x_val.reshape(-1, 28, 28, 1), y_val),\n",
        "            callbacks=[reduce_lr, early_stopping],\n",
        "        )\n",
        "\n",
        "        loss, accuracy = model.evaluate(x_test, y_test, verbose=1)\n",
        "        return {'loss': -accuracy, 'info': {'test_accuracy': accuracy}}\n",
        "\n",
        "def get_configspace():\n",
        "    cs = CS.ConfigurationSpace()\n",
        "    cs.add_hyperparameters([\n",
        "        #CS.UniformIntegerHyperparameter('num_hidden_layers', lower=1, upper=5, default_value=3),\n",
        "        #CS.UniformIntegerHyperparameter(\n",
        "        #    'hidden_units_exp',\n",
        "        #    lower=7,\n",
        "        #    upper=10,\n",
        "        #    default_value=10\n",
        "        #),\n",
        "        CS.UniformFloatHyperparameter('dropout_rate', lower=0.167, upper=0.168, default_value=0.1677),\n",
        "        CS.UniformFloatHyperparameter('l2_regularizer', lower=0.000388, upper=0.0003881, log=True, default_value=0.00038808),\n",
        "        CS.UniformFloatHyperparameter('momentum', lower=0.822, upper=0.823, default_value=0.8222),\n",
        "        CS.UniformFloatHyperparameter('reduce_lr_factor', lower=0.132, upper=0.133, default_value=0.1327),\n",
        "        #CS.UniformIntegerHyperparameter('reduce_lr_patience', lower=2, upper=6, default_value=4),\n",
        "        CS.UniformFloatHyperparameter('initial_learning_rate', lower=0.0611, upper=0.06111, log=True, default_value=0.061109)\n",
        "    ])\n",
        "    return cs\n",
        "\n"
      ]
    },
    {
      "cell_type": "markdown",
      "metadata": {
        "id": "hSOiiwhgiCml"
      },
      "source": [
        "# 구글 드라이브 설정"
      ]
    },
    {
      "cell_type": "code",
      "execution_count": 8,
      "metadata": {
        "colab": {
          "base_uri": "https://localhost:8080/"
        },
        "id": "-5xyNYmyJ6SE",
        "outputId": "0a035f5a-2e8c-45e6-be3c-0c338cf44a55"
      },
      "outputs": [
        {
          "output_type": "stream",
          "name": "stdout",
          "text": [
            "Drive already mounted at /content/drive; to attempt to forcibly remount, call drive.mount(\"/content/drive\", force_remount=True).\n"
          ]
        }
      ],
      "source": [
        "import os\n",
        "import json\n",
        "import time\n",
        "from google.colab import drive\n",
        "# Google Drive 마운트\n",
        "drive.mount('/content/drive')\n",
        "SAVE_DIR = '/content/drive/My Drive/HW3_test_results'  # 저장할 경로 설정\n",
        "\n",
        "# 결과 저장 폴더 생성 (없을 경우)\n",
        "if not os.path.exists(SAVE_DIR):\n",
        "    os.makedirs(SAVE_DIR)"
      ]
    },
    {
      "cell_type": "markdown",
      "metadata": {
        "id": "cDvwnLk9hOdy"
      },
      "source": [
        "# 재현\n",
        "무작위성을 감안하여 같은 하이퍼파라미터로 50 epoch를 3번 수행합니다."
      ]
    },
    {
      "cell_type": "code",
      "execution_count": 9,
      "metadata": {
        "colab": {
          "base_uri": "https://localhost:8080/"
        },
        "id": "j8-2MuQ-waSW",
        "outputId": "97e07342-33fb-45f5-e031-01b3f88ff9c7"
      },
      "outputs": [
        {
          "output_type": "stream",
          "name": "stdout",
          "text": [
            "Hyperparameters: {'dropout_rate': 0.16720280387812197, 'initial_learning_rate': 0.06110981046413328, 'l2_regularizer': 0.0003880406022946974, 'momentum': 0.8225754200143486, 'reduce_lr_factor': 0.13257183981181284}\n",
            "Epoch 1/50\n",
            "375/375 [==============================] - 19s 38ms/step - loss: 4.2675 - categorical_accuracy: 0.8238 - val_loss: 3.5532 - val_categorical_accuracy: 0.9508 - lr: 0.0611\n",
            "Epoch 2/50\n",
            "375/375 [==============================] - 14s 37ms/step - loss: 3.3880 - categorical_accuracy: 0.9120 - val_loss: 2.9420 - val_categorical_accuracy: 0.9655 - lr: 0.0611\n",
            "Epoch 3/50\n",
            "375/375 [==============================] - 14s 37ms/step - loss: 2.8205 - categorical_accuracy: 0.9264 - val_loss: 2.4535 - val_categorical_accuracy: 0.9690 - lr: 0.0611\n",
            "Epoch 4/50\n",
            "375/375 [==============================] - 14s 37ms/step - loss: 2.3657 - categorical_accuracy: 0.9340 - val_loss: 2.0562 - val_categorical_accuracy: 0.9718 - lr: 0.0611\n",
            "Epoch 5/50\n",
            "375/375 [==============================] - 14s 37ms/step - loss: 1.9914 - categorical_accuracy: 0.9408 - val_loss: 1.7335 - val_categorical_accuracy: 0.9738 - lr: 0.0611\n",
            "Epoch 6/50\n",
            "375/375 [==============================] - 14s 37ms/step - loss: 1.6875 - categorical_accuracy: 0.9436 - val_loss: 1.4614 - val_categorical_accuracy: 0.9753 - lr: 0.0611\n",
            "Epoch 7/50\n",
            "375/375 [==============================] - 14s 36ms/step - loss: 1.4474 - categorical_accuracy: 0.9450 - val_loss: 1.2671 - val_categorical_accuracy: 0.9670 - lr: 0.0611\n",
            "Epoch 8/50\n",
            "375/375 [==============================] - 13s 36ms/step - loss: 1.2359 - categorical_accuracy: 0.9478 - val_loss: 1.0675 - val_categorical_accuracy: 0.9738 - lr: 0.0611\n",
            "Epoch 9/50\n",
            "375/375 [==============================] - 14s 36ms/step - loss: 1.0738 - categorical_accuracy: 0.9497 - val_loss: 0.9155 - val_categorical_accuracy: 0.9762 - lr: 0.0611\n",
            "Epoch 10/50\n",
            "375/375 [==============================] - 14s 37ms/step - loss: 0.9344 - categorical_accuracy: 0.9507 - val_loss: 0.8143 - val_categorical_accuracy: 0.9716 - lr: 0.0611\n",
            "Epoch 11/50\n",
            "375/375 [==============================] - 13s 36ms/step - loss: 0.8213 - categorical_accuracy: 0.9529 - val_loss: 0.7022 - val_categorical_accuracy: 0.9767 - lr: 0.0611\n",
            "Epoch 12/50\n",
            "375/375 [==============================] - 13s 36ms/step - loss: 0.7302 - categorical_accuracy: 0.9544 - val_loss: 0.6222 - val_categorical_accuracy: 0.9759 - lr: 0.0611\n",
            "Epoch 13/50\n",
            "375/375 [==============================] - 13s 35ms/step - loss: 0.6547 - categorical_accuracy: 0.9532 - val_loss: 0.5413 - val_categorical_accuracy: 0.9802 - lr: 0.0611\n",
            "Epoch 14/50\n",
            "375/375 [==============================] - 13s 35ms/step - loss: 0.5966 - categorical_accuracy: 0.9540 - val_loss: 0.4955 - val_categorical_accuracy: 0.9765 - lr: 0.0611\n",
            "Epoch 15/50\n",
            "375/375 [==============================] - 13s 35ms/step - loss: 0.5413 - categorical_accuracy: 0.9556 - val_loss: 0.4528 - val_categorical_accuracy: 0.9767 - lr: 0.0611\n",
            "Epoch 16/50\n",
            "375/375 [==============================] - 13s 36ms/step - loss: 0.4994 - categorical_accuracy: 0.9552 - val_loss: 0.4091 - val_categorical_accuracy: 0.9779 - lr: 0.0611\n",
            "Epoch 17/50\n",
            "375/375 [==============================] - 13s 36ms/step - loss: 0.4598 - categorical_accuracy: 0.9584 - val_loss: 0.3994 - val_categorical_accuracy: 0.9745 - lr: 0.0611\n",
            "Epoch 18/50\n",
            "375/375 [==============================] - 13s 36ms/step - loss: 0.4362 - categorical_accuracy: 0.9566 - val_loss: 0.3492 - val_categorical_accuracy: 0.9809 - lr: 0.0611\n",
            "Epoch 19/50\n",
            "375/375 [==============================] - 14s 37ms/step - loss: 0.4100 - categorical_accuracy: 0.9580 - val_loss: 0.3250 - val_categorical_accuracy: 0.9824 - lr: 0.0611\n",
            "Epoch 20/50\n",
            "375/375 [==============================] - 13s 36ms/step - loss: 0.3909 - categorical_accuracy: 0.9590 - val_loss: 0.3134 - val_categorical_accuracy: 0.9795 - lr: 0.0611\n",
            "Epoch 21/50\n",
            "375/375 [==============================] - 13s 36ms/step - loss: 0.3723 - categorical_accuracy: 0.9589 - val_loss: 0.3495 - val_categorical_accuracy: 0.9677 - lr: 0.0611\n",
            "Epoch 22/50\n",
            "375/375 [==============================] - 13s 36ms/step - loss: 0.3666 - categorical_accuracy: 0.9571 - val_loss: 0.2933 - val_categorical_accuracy: 0.9794 - lr: 0.0611\n",
            "Epoch 23/50\n",
            "375/375 [==============================] - 13s 36ms/step - loss: 0.3507 - categorical_accuracy: 0.9588 - val_loss: 0.3006 - val_categorical_accuracy: 0.9741 - lr: 0.0611\n",
            "Epoch 24/50\n",
            "375/375 [==============================] - ETA: 0s - loss: 0.3405 - categorical_accuracy: 0.9596\n",
            "Epoch 24: ReduceLROnPlateau reducing learning rate to 0.00810144008378152.\n",
            "375/375 [==============================] - 13s 36ms/step - loss: 0.3405 - categorical_accuracy: 0.9596 - val_loss: 0.2715 - val_categorical_accuracy: 0.9819 - lr: 0.0611\n",
            "Epoch 25/50\n",
            "375/375 [==============================] - 13s 36ms/step - loss: 0.2945 - categorical_accuracy: 0.9717 - val_loss: 0.2397 - val_categorical_accuracy: 0.9893 - lr: 0.0081\n",
            "Epoch 26/50\n",
            "375/375 [==============================] - 13s 36ms/step - loss: 0.2718 - categorical_accuracy: 0.9775 - val_loss: 0.2326 - val_categorical_accuracy: 0.9912 - lr: 0.0081\n",
            "Epoch 27/50\n",
            "375/375 [==============================] - 14s 36ms/step - loss: 0.2649 - categorical_accuracy: 0.9776 - val_loss: 0.2257 - val_categorical_accuracy: 0.9916 - lr: 0.0081\n",
            "Epoch 28/50\n",
            "375/375 [==============================] - 14s 36ms/step - loss: 0.2569 - categorical_accuracy: 0.9785 - val_loss: 0.2202 - val_categorical_accuracy: 0.9916 - lr: 0.0081\n",
            "Epoch 29/50\n",
            "375/375 [==============================] - 14s 36ms/step - loss: 0.2479 - categorical_accuracy: 0.9803 - val_loss: 0.2138 - val_categorical_accuracy: 0.9918 - lr: 0.0081\n",
            "Epoch 30/50\n",
            "375/375 [==============================] - 13s 35ms/step - loss: 0.2420 - categorical_accuracy: 0.9805 - val_loss: 0.2111 - val_categorical_accuracy: 0.9916 - lr: 0.0081\n",
            "Epoch 31/50\n",
            "375/375 [==============================] - 13s 36ms/step - loss: 0.2368 - categorical_accuracy: 0.9813 - val_loss: 0.2049 - val_categorical_accuracy: 0.9916 - lr: 0.0081\n",
            "Epoch 32/50\n",
            "375/375 [==============================] - 13s 36ms/step - loss: 0.2307 - categorical_accuracy: 0.9817 - val_loss: 0.1998 - val_categorical_accuracy: 0.9918 - lr: 0.0081\n",
            "Epoch 33/50\n",
            "375/375 [==============================] - 13s 36ms/step - loss: 0.2251 - categorical_accuracy: 0.9821 - val_loss: 0.1969 - val_categorical_accuracy: 0.9922 - lr: 0.0081\n",
            "Epoch 34/50\n",
            "375/375 [==============================] - 14s 36ms/step - loss: 0.2208 - categorical_accuracy: 0.9825 - val_loss: 0.1917 - val_categorical_accuracy: 0.9923 - lr: 0.0081\n",
            "Epoch 35/50\n",
            "375/375 [==============================] - 14s 36ms/step - loss: 0.2121 - categorical_accuracy: 0.9835 - val_loss: 0.1889 - val_categorical_accuracy: 0.9919 - lr: 0.0081\n",
            "Epoch 36/50\n",
            "375/375 [==============================] - 13s 36ms/step - loss: 0.2096 - categorical_accuracy: 0.9838 - val_loss: 0.1823 - val_categorical_accuracy: 0.9922 - lr: 0.0081\n",
            "Epoch 37/50\n",
            "375/375 [==============================] - 14s 37ms/step - loss: 0.2045 - categorical_accuracy: 0.9836 - val_loss: 0.1801 - val_categorical_accuracy: 0.9929 - lr: 0.0081\n",
            "Epoch 38/50\n",
            "375/375 [==============================] - 14s 37ms/step - loss: 0.2015 - categorical_accuracy: 0.9837 - val_loss: 0.1765 - val_categorical_accuracy: 0.9923 - lr: 0.0081\n",
            "Epoch 39/50\n",
            "375/375 [==============================] - 14s 38ms/step - loss: 0.1988 - categorical_accuracy: 0.9830 - val_loss: 0.1714 - val_categorical_accuracy: 0.9923 - lr: 0.0081\n",
            "Epoch 40/50\n",
            "375/375 [==============================] - 14s 37ms/step - loss: 0.1921 - categorical_accuracy: 0.9847 - val_loss: 0.1694 - val_categorical_accuracy: 0.9919 - lr: 0.0081\n",
            "Epoch 41/50\n",
            "375/375 [==============================] - 14s 37ms/step - loss: 0.1902 - categorical_accuracy: 0.9831 - val_loss: 0.1679 - val_categorical_accuracy: 0.9920 - lr: 0.0081\n",
            "Epoch 42/50\n",
            "375/375 [==============================] - ETA: 0s - loss: 0.1870 - categorical_accuracy: 0.9837\n",
            "Epoch 42: ReduceLROnPlateau reducing learning rate to 0.001074022810539405.\n",
            "375/375 [==============================] - 14s 38ms/step - loss: 0.1870 - categorical_accuracy: 0.9837 - val_loss: 0.1616 - val_categorical_accuracy: 0.9927 - lr: 0.0081\n",
            "Epoch 43/50\n",
            "375/375 [==============================] - 14s 37ms/step - loss: 0.1809 - categorical_accuracy: 0.9848 - val_loss: 0.1610 - val_categorical_accuracy: 0.9929 - lr: 0.0011\n",
            "Epoch 44/50\n",
            "375/375 [==============================] - 14s 37ms/step - loss: 0.1791 - categorical_accuracy: 0.9859 - val_loss: 0.1602 - val_categorical_accuracy: 0.9929 - lr: 0.0011\n",
            "Epoch 45/50\n",
            "375/375 [==============================] - 14s 37ms/step - loss: 0.1763 - categorical_accuracy: 0.9857 - val_loss: 0.1598 - val_categorical_accuracy: 0.9931 - lr: 0.0011\n",
            "Epoch 46/50\n",
            "375/375 [==============================] - 14s 37ms/step - loss: 0.1762 - categorical_accuracy: 0.9857 - val_loss: 0.1589 - val_categorical_accuracy: 0.9926 - lr: 0.0011\n",
            "Epoch 47/50\n",
            "375/375 [==============================] - 14s 37ms/step - loss: 0.1765 - categorical_accuracy: 0.9864 - val_loss: 0.1579 - val_categorical_accuracy: 0.9931 - lr: 0.0011\n",
            "Epoch 48/50\n",
            "375/375 [==============================] - 14s 37ms/step - loss: 0.1745 - categorical_accuracy: 0.9864 - val_loss: 0.1575 - val_categorical_accuracy: 0.9931 - lr: 0.0011\n",
            "Epoch 49/50\n",
            "375/375 [==============================] - 14s 37ms/step - loss: 0.1724 - categorical_accuracy: 0.9867 - val_loss: 0.1567 - val_categorical_accuracy: 0.9931 - lr: 0.0011\n",
            "Epoch 50/50\n",
            "375/375 [==============================] - 14s 37ms/step - loss: 0.1744 - categorical_accuracy: 0.9858 - val_loss: 0.1563 - val_categorical_accuracy: 0.9935 - lr: 0.0011\n",
            "313/313 [==============================] - 1s 3ms/step - loss: 0.1523 - categorical_accuracy: 0.9929\n",
            "current iter:  1\n",
            "Hyperparameters: {'dropout_rate': 0.16702523562049754, 'initial_learning_rate': 0.061109773816752685, 'l2_regularizer': 0.00038801786726781545, 'momentum': 0.8220781649806472, 'reduce_lr_factor': 0.13258872179058906}\n",
            "Epoch 1/50\n",
            "375/375 [==============================] - 17s 39ms/step - loss: 4.2681 - categorical_accuracy: 0.8235 - val_loss: 3.6033 - val_categorical_accuracy: 0.9359 - lr: 0.0611\n",
            "Epoch 2/50\n",
            "375/375 [==============================] - 14s 37ms/step - loss: 3.3922 - categorical_accuracy: 0.9104 - val_loss: 2.9414 - val_categorical_accuracy: 0.9652 - lr: 0.0611\n",
            "Epoch 3/50\n",
            "375/375 [==============================] - 14s 37ms/step - loss: 2.8180 - categorical_accuracy: 0.9293 - val_loss: 2.4567 - val_categorical_accuracy: 0.9688 - lr: 0.0611\n",
            "Epoch 4/50\n",
            "375/375 [==============================] - 14s 37ms/step - loss: 2.3639 - categorical_accuracy: 0.9363 - val_loss: 2.0666 - val_categorical_accuracy: 0.9693 - lr: 0.0611\n",
            "Epoch 5/50\n",
            "375/375 [==============================] - 14s 37ms/step - loss: 1.9895 - categorical_accuracy: 0.9393 - val_loss: 1.7384 - val_categorical_accuracy: 0.9722 - lr: 0.0611\n",
            "Epoch 6/50\n",
            "375/375 [==============================] - 14s 37ms/step - loss: 1.6923 - categorical_accuracy: 0.9437 - val_loss: 1.4639 - val_categorical_accuracy: 0.9744 - lr: 0.0611\n",
            "Epoch 7/50\n",
            "375/375 [==============================] - 14s 37ms/step - loss: 1.4431 - categorical_accuracy: 0.9464 - val_loss: 1.2605 - val_categorical_accuracy: 0.9697 - lr: 0.0611\n",
            "Epoch 8/50\n",
            "375/375 [==============================] - 14s 37ms/step - loss: 1.2415 - categorical_accuracy: 0.9470 - val_loss: 1.0716 - val_categorical_accuracy: 0.9735 - lr: 0.0611\n",
            "Epoch 9/50\n",
            "375/375 [==============================] - 14s 37ms/step - loss: 1.0771 - categorical_accuracy: 0.9495 - val_loss: 0.9278 - val_categorical_accuracy: 0.9751 - lr: 0.0611\n",
            "Epoch 10/50\n",
            "375/375 [==============================] - 14s 37ms/step - loss: 0.9317 - categorical_accuracy: 0.9538 - val_loss: 0.8042 - val_categorical_accuracy: 0.9745 - lr: 0.0611\n",
            "Epoch 11/50\n",
            "375/375 [==============================] - 14s 37ms/step - loss: 0.8300 - categorical_accuracy: 0.9509 - val_loss: 0.6935 - val_categorical_accuracy: 0.9788 - lr: 0.0611\n",
            "Epoch 12/50\n",
            "375/375 [==============================] - 14s 37ms/step - loss: 0.7315 - categorical_accuracy: 0.9533 - val_loss: 0.6300 - val_categorical_accuracy: 0.9743 - lr: 0.0611\n",
            "Epoch 13/50\n",
            "375/375 [==============================] - 14s 37ms/step - loss: 0.6548 - categorical_accuracy: 0.9554 - val_loss: 0.5762 - val_categorical_accuracy: 0.9685 - lr: 0.0611\n",
            "Epoch 14/50\n",
            "375/375 [==============================] - 14s 36ms/step - loss: 0.5925 - categorical_accuracy: 0.9558 - val_loss: 0.5468 - val_categorical_accuracy: 0.9647 - lr: 0.0611\n",
            "Epoch 15/50\n",
            "375/375 [==============================] - 14s 36ms/step - loss: 0.5450 - categorical_accuracy: 0.9563 - val_loss: 0.4580 - val_categorical_accuracy: 0.9780 - lr: 0.0611\n",
            "Epoch 16/50\n",
            "375/375 [==============================] - ETA: 0s - loss: 0.5010 - categorical_accuracy: 0.9564\n",
            "Epoch 16: ReduceLROnPlateau reducing learning rate to 0.008102466799000192.\n",
            "375/375 [==============================] - 14s 36ms/step - loss: 0.5010 - categorical_accuracy: 0.9564 - val_loss: 0.4159 - val_categorical_accuracy: 0.9783 - lr: 0.0611\n",
            "Epoch 17/50\n",
            "375/375 [==============================] - 14s 36ms/step - loss: 0.4353 - categorical_accuracy: 0.9699 - val_loss: 0.3766 - val_categorical_accuracy: 0.9879 - lr: 0.0081\n",
            "Epoch 18/50\n",
            "375/375 [==============================] - 14s 36ms/step - loss: 0.4084 - categorical_accuracy: 0.9751 - val_loss: 0.3619 - val_categorical_accuracy: 0.9900 - lr: 0.0081\n",
            "Epoch 19/50\n",
            "375/375 [==============================] - 14s 36ms/step - loss: 0.3958 - categorical_accuracy: 0.9765 - val_loss: 0.3514 - val_categorical_accuracy: 0.9902 - lr: 0.0081\n",
            "Epoch 20/50\n",
            "375/375 [==============================] - 13s 36ms/step - loss: 0.3851 - categorical_accuracy: 0.9770 - val_loss: 0.3438 - val_categorical_accuracy: 0.9903 - lr: 0.0081\n",
            "Epoch 21/50\n",
            "375/375 [==============================] - 13s 36ms/step - loss: 0.3754 - categorical_accuracy: 0.9784 - val_loss: 0.3343 - val_categorical_accuracy: 0.9902 - lr: 0.0081\n",
            "Epoch 22/50\n",
            "375/375 [==============================] - 14s 36ms/step - loss: 0.3641 - categorical_accuracy: 0.9795 - val_loss: 0.3255 - val_categorical_accuracy: 0.9911 - lr: 0.0081\n",
            "Epoch 23/50\n",
            "375/375 [==============================] - 14s 36ms/step - loss: 0.3578 - categorical_accuracy: 0.9793 - val_loss: 0.3210 - val_categorical_accuracy: 0.9903 - lr: 0.0081\n",
            "Epoch 24/50\n",
            "375/375 [==============================] - 14s 36ms/step - loss: 0.3469 - categorical_accuracy: 0.9798 - val_loss: 0.3117 - val_categorical_accuracy: 0.9912 - lr: 0.0081\n",
            "Epoch 25/50\n",
            "375/375 [==============================] - 13s 35ms/step - loss: 0.3376 - categorical_accuracy: 0.9812 - val_loss: 0.3052 - val_categorical_accuracy: 0.9909 - lr: 0.0081\n",
            "Epoch 26/50\n",
            "375/375 [==============================] - 13s 34ms/step - loss: 0.3315 - categorical_accuracy: 0.9805 - val_loss: 0.2984 - val_categorical_accuracy: 0.9912 - lr: 0.0081\n",
            "Epoch 27/50\n",
            "375/375 [==============================] - 13s 35ms/step - loss: 0.3216 - categorical_accuracy: 0.9809 - val_loss: 0.2896 - val_categorical_accuracy: 0.9918 - lr: 0.0081\n",
            "Epoch 28/50\n",
            "375/375 [==============================] - 13s 34ms/step - loss: 0.3168 - categorical_accuracy: 0.9802 - val_loss: 0.2837 - val_categorical_accuracy: 0.9916 - lr: 0.0081\n",
            "Epoch 29/50\n",
            "375/375 [==============================] - 13s 34ms/step - loss: 0.3091 - categorical_accuracy: 0.9811 - val_loss: 0.2779 - val_categorical_accuracy: 0.9911 - lr: 0.0081\n",
            "Epoch 30/50\n",
            "375/375 [==============================] - 13s 34ms/step - loss: 0.3042 - categorical_accuracy: 0.9812 - val_loss: 0.2710 - val_categorical_accuracy: 0.9914 - lr: 0.0081\n",
            "Epoch 31/50\n",
            "375/375 [==============================] - 13s 34ms/step - loss: 0.2951 - categorical_accuracy: 0.9819 - val_loss: 0.2635 - val_categorical_accuracy: 0.9919 - lr: 0.0081\n",
            "Epoch 32/50\n",
            "374/375 [============================>.] - ETA: 0s - loss: 0.2912 - categorical_accuracy: 0.9817\n",
            "Epoch 32: ReduceLROnPlateau reducing learning rate to 0.0010742956570005862.\n",
            "375/375 [==============================] - 13s 34ms/step - loss: 0.2912 - categorical_accuracy: 0.9816 - val_loss: 0.2598 - val_categorical_accuracy: 0.9915 - lr: 0.0081\n",
            "Epoch 33/50\n",
            "375/375 [==============================] - 13s 35ms/step - loss: 0.2840 - categorical_accuracy: 0.9827 - val_loss: 0.2571 - val_categorical_accuracy: 0.9918 - lr: 0.0011\n",
            "Epoch 34/50\n",
            "375/375 [==============================] - 13s 35ms/step - loss: 0.2809 - categorical_accuracy: 0.9837 - val_loss: 0.2560 - val_categorical_accuracy: 0.9917 - lr: 0.0011\n",
            "Epoch 35/50\n",
            "375/375 [==============================] - 13s 34ms/step - loss: 0.2765 - categorical_accuracy: 0.9849 - val_loss: 0.2547 - val_categorical_accuracy: 0.9918 - lr: 0.0011\n",
            "Epoch 36/50\n",
            "375/375 [==============================] - 13s 35ms/step - loss: 0.2768 - categorical_accuracy: 0.9844 - val_loss: 0.2536 - val_categorical_accuracy: 0.9923 - lr: 0.0011\n",
            "Epoch 37/50\n",
            "375/375 [==============================] - 13s 34ms/step - loss: 0.2758 - categorical_accuracy: 0.9843 - val_loss: 0.2526 - val_categorical_accuracy: 0.9925 - lr: 0.0011\n",
            "Epoch 38/50\n",
            "375/375 [==============================] - 13s 34ms/step - loss: 0.2731 - categorical_accuracy: 0.9848 - val_loss: 0.2518 - val_categorical_accuracy: 0.9925 - lr: 0.0011\n",
            "Epoch 39/50\n",
            "375/375 [==============================] - 13s 34ms/step - loss: 0.2735 - categorical_accuracy: 0.9844 - val_loss: 0.2511 - val_categorical_accuracy: 0.9926 - lr: 0.0011\n",
            "Epoch 40/50\n",
            "375/375 [==============================] - 13s 34ms/step - loss: 0.2736 - categorical_accuracy: 0.9845 - val_loss: 0.2505 - val_categorical_accuracy: 0.9923 - lr: 0.0011\n",
            "Epoch 41/50\n",
            "375/375 [==============================] - 13s 34ms/step - loss: 0.2723 - categorical_accuracy: 0.9846 - val_loss: 0.2493 - val_categorical_accuracy: 0.9927 - lr: 0.0011\n",
            "Epoch 42/50\n",
            "375/375 [==============================] - 13s 34ms/step - loss: 0.2691 - categorical_accuracy: 0.9852 - val_loss: 0.2486 - val_categorical_accuracy: 0.9926 - lr: 0.0011\n",
            "Epoch 43/50\n",
            "375/375 [==============================] - 13s 35ms/step - loss: 0.2676 - categorical_accuracy: 0.9847 - val_loss: 0.2480 - val_categorical_accuracy: 0.9924 - lr: 0.0011\n",
            "Epoch 44/50\n",
            "375/375 [==============================] - 13s 35ms/step - loss: 0.2702 - categorical_accuracy: 0.9843 - val_loss: 0.2469 - val_categorical_accuracy: 0.9927 - lr: 0.0011\n",
            "Epoch 45/50\n",
            "375/375 [==============================] - 13s 34ms/step - loss: 0.2665 - categorical_accuracy: 0.9857 - val_loss: 0.2459 - val_categorical_accuracy: 0.9929 - lr: 0.0011\n",
            "Epoch 46/50\n",
            "375/375 [==============================] - 13s 34ms/step - loss: 0.2630 - categorical_accuracy: 0.9859 - val_loss: 0.2446 - val_categorical_accuracy: 0.9930 - lr: 0.0011\n",
            "Epoch 47/50\n",
            "375/375 [==============================] - 13s 35ms/step - loss: 0.2654 - categorical_accuracy: 0.9851 - val_loss: 0.2440 - val_categorical_accuracy: 0.9927 - lr: 0.0011\n",
            "Epoch 48/50\n",
            "375/375 [==============================] - 13s 34ms/step - loss: 0.2641 - categorical_accuracy: 0.9849 - val_loss: 0.2434 - val_categorical_accuracy: 0.9924 - lr: 0.0011\n",
            "Epoch 49/50\n",
            "375/375 [==============================] - 13s 34ms/step - loss: 0.2624 - categorical_accuracy: 0.9853 - val_loss: 0.2428 - val_categorical_accuracy: 0.9926 - lr: 0.0011\n",
            "Epoch 50/50\n",
            "375/375 [==============================] - ETA: 0s - loss: 0.2617 - categorical_accuracy: 0.9856\n",
            "Epoch 50: ReduceLROnPlateau reducing learning rate to 0.0001424394814098099.\n",
            "375/375 [==============================] - 13s 34ms/step - loss: 0.2617 - categorical_accuracy: 0.9856 - val_loss: 0.2416 - val_categorical_accuracy: 0.9927 - lr: 0.0011\n",
            "313/313 [==============================] - 1s 2ms/step - loss: 0.2377 - categorical_accuracy: 0.9927\n",
            "current iter:  2\n",
            "Hyperparameters: {'dropout_rate': 0.16750619565244448, 'initial_learning_rate': 0.06110818182566312, 'l2_regularizer': 0.00038803769257666457, 'momentum': 0.8220544281523048, 'reduce_lr_factor': 0.13234827706930552}\n",
            "Epoch 1/50\n",
            "375/375 [==============================] - 15s 35ms/step - loss: 4.2731 - categorical_accuracy: 0.8214 - val_loss: 3.5616 - val_categorical_accuracy: 0.9495 - lr: 0.0611\n",
            "Epoch 2/50\n",
            "375/375 [==============================] - 13s 34ms/step - loss: 3.3924 - categorical_accuracy: 0.9116 - val_loss: 2.9859 - val_categorical_accuracy: 0.9510 - lr: 0.0611\n",
            "Epoch 3/50\n",
            "375/375 [==============================] - 13s 35ms/step - loss: 2.8188 - categorical_accuracy: 0.9275 - val_loss: 2.4566 - val_categorical_accuracy: 0.9707 - lr: 0.0611\n",
            "Epoch 4/50\n",
            "375/375 [==============================] - 13s 35ms/step - loss: 2.3628 - categorical_accuracy: 0.9359 - val_loss: 2.0587 - val_categorical_accuracy: 0.9720 - lr: 0.0611\n",
            "Epoch 5/50\n",
            "375/375 [==============================] - 13s 34ms/step - loss: 1.9922 - categorical_accuracy: 0.9408 - val_loss: 1.7344 - val_categorical_accuracy: 0.9728 - lr: 0.0611\n",
            "Epoch 6/50\n",
            "375/375 [==============================] - 13s 34ms/step - loss: 1.6892 - categorical_accuracy: 0.9436 - val_loss: 1.4505 - val_categorical_accuracy: 0.9794 - lr: 0.0611\n",
            "Epoch 7/50\n",
            "375/375 [==============================] - 13s 34ms/step - loss: 1.4443 - categorical_accuracy: 0.9461 - val_loss: 1.2589 - val_categorical_accuracy: 0.9711 - lr: 0.0611\n",
            "Epoch 8/50\n",
            "375/375 [==============================] - 13s 34ms/step - loss: 1.2387 - categorical_accuracy: 0.9487 - val_loss: 1.0901 - val_categorical_accuracy: 0.9676 - lr: 0.0611\n",
            "Epoch 9/50\n",
            "375/375 [==============================] - 13s 34ms/step - loss: 1.0777 - categorical_accuracy: 0.9489 - val_loss: 0.9160 - val_categorical_accuracy: 0.9788 - lr: 0.0611\n",
            "Epoch 10/50\n",
            "375/375 [==============================] - 13s 34ms/step - loss: 0.9383 - categorical_accuracy: 0.9515 - val_loss: 0.7997 - val_categorical_accuracy: 0.9769 - lr: 0.0611\n",
            "Epoch 11/50\n",
            "375/375 [==============================] - ETA: 0s - loss: 0.8295 - categorical_accuracy: 0.9501\n",
            "Epoch 11: ReduceLROnPlateau reducing learning rate to 0.008087562750201267.\n",
            "375/375 [==============================] - 13s 34ms/step - loss: 0.8295 - categorical_accuracy: 0.9501 - val_loss: 0.7133 - val_categorical_accuracy: 0.9732 - lr: 0.0611\n",
            "Epoch 12/50\n",
            "375/375 [==============================] - 13s 35ms/step - loss: 0.7285 - categorical_accuracy: 0.9660 - val_loss: 0.6526 - val_categorical_accuracy: 0.9886 - lr: 0.0081\n",
            "Epoch 13/50\n",
            "375/375 [==============================] - 13s 34ms/step - loss: 0.6911 - categorical_accuracy: 0.9720 - val_loss: 0.6342 - val_categorical_accuracy: 0.9879 - lr: 0.0081\n",
            "Epoch 14/50\n",
            "375/375 [==============================] - 13s 34ms/step - loss: 0.6713 - categorical_accuracy: 0.9732 - val_loss: 0.6190 - val_categorical_accuracy: 0.9894 - lr: 0.0081\n",
            "Epoch 15/50\n",
            "375/375 [==============================] - 13s 34ms/step - loss: 0.6542 - categorical_accuracy: 0.9741 - val_loss: 0.6003 - val_categorical_accuracy: 0.9893 - lr: 0.0081\n",
            "Epoch 16/50\n",
            "375/375 [==============================] - 13s 35ms/step - loss: 0.6408 - categorical_accuracy: 0.9739 - val_loss: 0.5859 - val_categorical_accuracy: 0.9898 - lr: 0.0081\n",
            "Epoch 17/50\n",
            "375/375 [==============================] - 13s 35ms/step - loss: 0.6172 - categorical_accuracy: 0.9764 - val_loss: 0.5709 - val_categorical_accuracy: 0.9896 - lr: 0.0081\n",
            "Epoch 18/50\n",
            "375/375 [==============================] - 13s 35ms/step - loss: 0.6047 - categorical_accuracy: 0.9756 - val_loss: 0.5579 - val_categorical_accuracy: 0.9898 - lr: 0.0081\n",
            "Epoch 19/50\n",
            "375/375 [==============================] - 13s 34ms/step - loss: 0.5880 - categorical_accuracy: 0.9775 - val_loss: 0.5417 - val_categorical_accuracy: 0.9915 - lr: 0.0081\n",
            "Epoch 20/50\n",
            "375/375 [==============================] - 13s 34ms/step - loss: 0.5766 - categorical_accuracy: 0.9766 - val_loss: 0.5295 - val_categorical_accuracy: 0.9904 - lr: 0.0081\n",
            "Epoch 21/50\n",
            "375/375 [==============================] - 13s 35ms/step - loss: 0.5609 - categorical_accuracy: 0.9774 - val_loss: 0.5162 - val_categorical_accuracy: 0.9912 - lr: 0.0081\n",
            "Epoch 22/50\n",
            "375/375 [==============================] - 13s 34ms/step - loss: 0.5487 - categorical_accuracy: 0.9771 - val_loss: 0.5017 - val_categorical_accuracy: 0.9915 - lr: 0.0081\n",
            "Epoch 23/50\n",
            "375/375 [==============================] - 13s 34ms/step - loss: 0.5329 - categorical_accuracy: 0.9791 - val_loss: 0.4927 - val_categorical_accuracy: 0.9918 - lr: 0.0081\n",
            "Epoch 24/50\n",
            "375/375 [==============================] - 13s 35ms/step - loss: 0.5220 - categorical_accuracy: 0.9781 - val_loss: 0.4814 - val_categorical_accuracy: 0.9910 - lr: 0.0081\n",
            "Epoch 25/50\n",
            "375/375 [==============================] - 13s 35ms/step - loss: 0.5065 - categorical_accuracy: 0.9801 - val_loss: 0.4693 - val_categorical_accuracy: 0.9905 - lr: 0.0081\n",
            "Epoch 26/50\n",
            "375/375 [==============================] - 13s 34ms/step - loss: 0.4975 - categorical_accuracy: 0.9793 - val_loss: 0.4570 - val_categorical_accuracy: 0.9923 - lr: 0.0081\n",
            "Epoch 27/50\n",
            "375/375 [==============================] - 13s 34ms/step - loss: 0.4829 - categorical_accuracy: 0.9795 - val_loss: 0.4501 - val_categorical_accuracy: 0.9907 - lr: 0.0081\n",
            "Epoch 28/50\n",
            "375/375 [==============================] - 13s 34ms/step - loss: 0.4756 - categorical_accuracy: 0.9792 - val_loss: 0.4363 - val_categorical_accuracy: 0.9913 - lr: 0.0081\n",
            "Epoch 29/50\n",
            "375/375 [==============================] - 13s 34ms/step - loss: 0.4633 - categorical_accuracy: 0.9800 - val_loss: 0.4257 - val_categorical_accuracy: 0.9909 - lr: 0.0081\n",
            "Epoch 30/50\n",
            "375/375 [==============================] - 13s 35ms/step - loss: 0.4517 - categorical_accuracy: 0.9805 - val_loss: 0.4177 - val_categorical_accuracy: 0.9915 - lr: 0.0081\n",
            "Epoch 31/50\n",
            "375/375 [==============================] - ETA: 0s - loss: 0.4460 - categorical_accuracy: 0.9795\n",
            "Epoch 31: ReduceLROnPlateau reducing learning rate to 0.0010703749489496498.\n",
            "375/375 [==============================] - 13s 35ms/step - loss: 0.4460 - categorical_accuracy: 0.9795 - val_loss: 0.4057 - val_categorical_accuracy: 0.9919 - lr: 0.0081\n",
            "Epoch 32/50\n",
            "375/375 [==============================] - 13s 34ms/step - loss: 0.4358 - categorical_accuracy: 0.9807 - val_loss: 0.4037 - val_categorical_accuracy: 0.9921 - lr: 0.0011\n",
            "Epoch 33/50\n",
            "375/375 [==============================] - 13s 34ms/step - loss: 0.4308 - categorical_accuracy: 0.9816 - val_loss: 0.4023 - val_categorical_accuracy: 0.9920 - lr: 0.0011\n",
            "Epoch 34/50\n",
            "375/375 [==============================] - 13s 34ms/step - loss: 0.4282 - categorical_accuracy: 0.9819 - val_loss: 0.4006 - val_categorical_accuracy: 0.9917 - lr: 0.0011\n",
            "313/313 [==============================] - 1s 3ms/step - loss: 0.4534 - categorical_accuracy: 0.9907\n",
            "current iter:  3\n"
          ]
        }
      ],
      "source": [
        "import os\n",
        "import pickle\n",
        "import hpbandster.core.result as hpres\n",
        "from hpbandster.core.result import json_result_logger\n",
        "\n",
        "result_logger = hpres.json_result_logger(directory=SAVE_DIR, overwrite=True)\n",
        "\n",
        "# 네임 서버와 워커를 새로 시작하는 함수\n",
        "def start_new_ns_and_workers():\n",
        "    global NS, w\n",
        "    NS = hpns.NameServer(run_id='bohb', host='127.0.0.1', port=9090)  # 포트를 명시적으로 설정\n",
        "    NS.start()\n",
        "    w = MyWorker(nameserver='127.0.0.1', nameserver_port=9090, run_id='bohb')  # 동일한 포트로 설정\n",
        "    w.run(background=True)\n",
        "    time.sleep(2)  # 잠시 대기하여 워커가 네임 서버에 연결될 시간을 줍니다.\n",
        "\n",
        "start_new_ns_and_workers()\n",
        "\n",
        "# BOHB 설정\n",
        "try:\n",
        "    bohb = BOHB(\n",
        "        configspace=get_configspace(),\n",
        "        run_id='bohb',\n",
        "        nameserver='127.0.0.1',\n",
        "        min_budget=50,\n",
        "        max_budget=50,\n",
        "        result_logger=result_logger,  # 결과 로거 설정\n",
        "    )\n",
        "\n",
        "    # BOHB 실행 및 결과 저장\n",
        "    for i in range(3): # <-- 여기를 수정하면 epoch 수를 수정할 수 있습니다.\n",
        "        result = bohb.run(n_iterations=1)\n",
        "        print(\"current iter: \", result.num_iterations())\n",
        "        # iteration 종료 시 결과 저장\n",
        "        # 결과 저장\n",
        "        with open(os.path.join(SAVE_DIR, 'results.pkl'), 'wb') as fh:\n",
        "            pickle.dump(result, fh)\n",
        "except KeyboardInterrupt:\n",
        "    print(\"\\n작업이 중단되었습니다. 마지막 Iteration까지 결과가 저장되었습니다.\")\n",
        "finally:\n",
        "    bohb.shutdown(shutdown_workers=True)\n",
        "    NS.shutdown()"
      ]
    },
    {
      "cell_type": "markdown",
      "metadata": {
        "id": "JWHUU_KohDYc"
      },
      "source": [
        "# 정확도 그래프"
      ]
    },
    {
      "cell_type": "code",
      "execution_count": 11,
      "metadata": {
        "colab": {
          "base_uri": "https://localhost:8080/",
          "height": 581
        },
        "id": "7LqSTIHAqwri",
        "outputId": "5ab5269c-4881-4371-feb5-1676c7d84086"
      },
      "outputs": [
        {
          "output_type": "stream",
          "name": "stdout",
          "text": [
            "Drive already mounted at /content/drive; to attempt to forcibly remount, call drive.mount(\"/content/drive\", force_remount=True).\n"
          ]
        },
        {
          "output_type": "display_data",
          "data": {
            "text/plain": [
              "<Figure size 1000x600 with 1 Axes>"
            ],
            "image/png": "[encoded data removed]"
          },
          "metadata": {}
        }
      ],
      "source": [
        "import json\n",
        "import pickle\n",
        "import matplotlib.pyplot as plt\n",
        "import os\n",
        "from google.colab import drive\n",
        "\n",
        "# Google Drive 마운트\n",
        "drive.mount('/content/drive')\n",
        "SAVE_DIR = '/content/drive/My Drive/HW3_test_results'  # 저장할 경로 설정\n",
        "# 저장된 결과 파일 경로\n",
        "result_file = os.path.join(SAVE_DIR, 'results.pkl')\n",
        "\n",
        "# 결과 불러오기\n",
        "with open(result_file, 'rb') as f:\n",
        "    result = pickle.load(f)\n",
        "\n",
        "# get all executed runs\n",
        "all_runs = result.get_all_runs()\n",
        "\n",
        "# get the 'dict' that translates config ids to the actual configurations\n",
        "id2conf = result.get_id2config_mapping()\n",
        "\n",
        "# budget = 50인 실험 결과 추출\n",
        "results = []\n",
        "for entry in all_runs:\n",
        "        test_accuracy = entry['info']['test_accuracy']\n",
        "        results.append(test_accuracy)\n",
        "\n",
        "# 실험 인덱스 생성\n",
        "indices = range(len(results))\n",
        "\n",
        "# 최고 테스트 정확도 값 추적\n",
        "max_accuracy = []\n",
        "current_max = 0\n",
        "for accuracy in results:\n",
        "    if accuracy > current_max:\n",
        "        current_max = accuracy\n",
        "    max_accuracy.append(current_max)\n",
        "\n",
        "# 테스트 정확도 그래프 그리기\n",
        "plt.figure(figsize=(10, 6))\n",
        "plt.plot(indices, results, 'bo', label='Test Accuracy')\n",
        "\n",
        "# 최고 기록 점 표시\n",
        "for i, (x, y) in enumerate(zip(indices, results)):\n",
        "    if y == max_accuracy[i]:\n",
        "        plt.plot(x, y, 'ro')\n",
        "        plt.text(x, y, f'{y:.4f}', fontsize=9, verticalalignment='bottom', horizontalalignment='right')\n",
        "\n",
        "# 최고 기록을 잇는 선 그리기\n",
        "plt.plot(indices, max_accuracy, 'r-', label='High Score')\n",
        "\n",
        "# 세밀한 y축 범위 설정\n",
        "plt.ylim(0.96, 1.0)\n",
        "plt.yticks([0.96, 0.97, 0.98, 0.99, 1.0])\n",
        "\n",
        "# 그래프 라벨 및 제목 추가\n",
        "plt.xlabel('Experiment Index')\n",
        "plt.ylabel('Test Accuracy')\n",
        "plt.title('Test Accuracy over Time')\n",
        "plt.legend()\n",
        "plt.show()\n"
      ]
    }
  ],
  "metadata": {
    "accelerator": "GPU",
    "colab": {
      "gpuType": "T4",
      "machine_shape": "hm",
      "provenance": [],
      "toc_visible": true
    },
    "kernelspec": {
      "display_name": "Python 3",
      "name": "python3"
    },
    "language_info": {
      "name": "python"
    }
  },
  "nbformat": 4,
  "nbformat_minor": 0
}